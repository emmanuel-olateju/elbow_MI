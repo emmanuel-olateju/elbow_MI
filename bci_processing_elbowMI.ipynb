{
  "cells": [
    {
      "cell_type": "markdown",
      "metadata": {
        "id": "view-in-github",
        "colab_type": "text"
      },
      "source": [
        "<a href=\"https://colab.research.google.com/github/emmanuel-olateju/elbow_MI/blob/strokeMI%2FLiu2024/bci_processing_elbowMI.ipynb\" target=\"_parent\"><img src=\"https://colab.research.google.com/assets/colab-badge.svg\" alt=\"Open In Colab\"/></a>"
      ]
    },
    {
      "cell_type": "markdown",
      "metadata": {
        "id": "o_gMKY4ggn61"
      },
      "source": [
        "#### Pre-defs & Pre-loads"
      ]
    },
    {
      "cell_type": "code",
      "source": [
        "import random\n",
        "import numpy as np\n",
        "import torch\n",
        "\n",
        "random.seed(42)\n",
        "np.random.seed(42)\n",
        "torch.manual_seed(42)\n",
        "torch.cuda.manual_seed_all(42)\n",
        "\n",
        "torch.backends.cudnn.deterministic = True\n",
        "torch.backends.cudnn.benchmark = False"
      ],
      "metadata": {
        "id": "VFygr9lm1tDd"
      },
      "execution_count": 1,
      "outputs": []
    },
    {
      "cell_type": "code",
      "execution_count": 2,
      "metadata": {
        "id": "0BoC_JjLRJlu"
      },
      "outputs": [],
      "source": [
        "from IPython import display\n",
        "from IPython.display import clear_output\n",
        "import time\n",
        "import logging\n",
        "import warnings\n",
        "\n",
        "logging.basicConfig(level=logging.ERROR)\n",
        "warnings.filterwarnings(\"ignore\")\n",
        "\n",
        "import os\n",
        "import sys"
      ]
    },
    {
      "cell_type": "code",
      "execution_count": 3,
      "metadata": {
        "colab": {
          "base_uri": "https://localhost:8080/"
        },
        "id": "XJgI-H4-X-Ya",
        "outputId": "366c0a89-e0d2-402b-e22b-f1ce607197e3"
      },
      "outputs": [
        {
          "output_type": "stream",
          "name": "stdout",
          "text": [
            "Mounted at /content/drive\n"
          ]
        }
      ],
      "source": [
        "from google.colab import drive\n",
        "drive.mount('/content/drive', force_remount=True)"
      ]
    },
    {
      "cell_type": "code",
      "execution_count": 4,
      "metadata": {
        "id": "vNjObH2MJrSM"
      },
      "outputs": [],
      "source": [
        "# ! pip3 install torchmetrics\n",
        "! pip3 install mne\n",
        "# ! pip3 install pyEDFlib\n",
        "time.sleep(0.25)\n",
        "clear_output()"
      ]
    },
    {
      "cell_type": "code",
      "execution_count": 5,
      "metadata": {
        "id": "15eG6lwSEUMh"
      },
      "outputs": [],
      "source": [
        "from tqdm import tqdm\n",
        "import gc\n",
        "import joblib\n",
        "import random\n",
        "import math\n",
        "\n",
        "import mne\n",
        "\n",
        "import numpy as np\n",
        "import pandas as pd\n",
        "import scipy.io\n",
        "\n",
        "from scipy.signal import ShortTimeFFT\n",
        "from scipy.signal.windows import hamming\n",
        "import librosa\n",
        "\n",
        "import matplotlib.cm as cm\n",
        "import matplotlib.pyplot as plt\n",
        "import seaborn as sns\n",
        "from PIL import Image\n",
        "import cv2\n",
        "import shutil"
      ]
    },
    {
      "cell_type": "code",
      "source": [
        "import yaml\n",
        "\n",
        "with open(\"config.yaml\") as f:\n",
        "  config = yaml.safe_load(f)"
      ],
      "metadata": {
        "id": "bJOJXeyDalqf"
      },
      "execution_count": 7,
      "outputs": []
    },
    {
      "cell_type": "code",
      "source": [
        "! mkdir plots\n",
        "# mat_files = os.listdir(dataset_dir)\n",
        "\n",
        "dataset_dir = os.path.join(config['DATASET_DIR'], 'edffile.zip')\n",
        "! unzip $dataset_dir\n",
        "clear_output()\n",
        "print(\"EDFs Unzipped\")"
      ],
      "metadata": {
        "id": "vaDmSZKZCOe1",
        "colab": {
          "base_uri": "https://localhost:8080/"
        },
        "outputId": "1f610c07-324b-4c50-fba7-b32c62edf4bb"
      },
      "execution_count": 8,
      "outputs": [
        {
          "output_type": "stream",
          "name": "stdout",
          "text": [
            "EDFs Unzipped\n"
          ]
        }
      ]
    },
    {
      "cell_type": "code",
      "source": [
        "import json\n",
        "\n",
        "with open('task-motor-imagery_eeg.json') as f:\n",
        "  eeg_info = json.load(f)\n",
        "\n",
        "fs = eeg_info['SamplingFrequency']\n",
        "f_DC = eeg_info['PowerLineFrequency']\n",
        "REF = eeg_info['EEGReference']\n",
        "GND = eeg_info['EEGGround']"
      ],
      "metadata": {
        "id": "DeKWNEj4bphZ"
      },
      "execution_count": 9,
      "outputs": []
    },
    {
      "cell_type": "code",
      "source": [
        "annotations = pd.read_csv('task-motor-imagery_events.tsv', sep='\\t')\n",
        "annotations = annotations[annotations['value']==2]\n",
        "annotations = annotations[['onset', 'duration', 'trial_type']].values\n",
        "\n",
        "for idx in range(annotations.shape[0]):\n",
        "  annotations[idx, 0:2] = (annotations[idx, 0:2] / 1000) * fs"
      ],
      "metadata": {
        "id": "FsqDhAJGhTAK"
      },
      "execution_count": 10,
      "outputs": []
    },
    {
      "cell_type": "code",
      "source": [
        "channels = pd.read_csv('task-motor-imagery_channels.tsv', sep='\\t')\n",
        "channels_idx = chs_idx = list(map(int, channels.index.values))\n",
        "channel_types = ch_tps = list(channels['type'].values)\n",
        "channels = chs = list(channels['name'].values)\n",
        "channels_map = chs_map = dict(zip(channels, channels_idx))"
      ],
      "metadata": {
        "id": "gLhyKprrhUMk"
      },
      "execution_count": 11,
      "outputs": []
    },
    {
      "cell_type": "code",
      "source": [
        "# choi = channels_of_interest = [13, 17, 28, 30, 32, 43]\n",
        "# idx_to_ch = {\n",
        "#     13: \"FC3\",\n",
        "#     17: \"FC4\",\n",
        "#     28: \"C3\",\n",
        "#     30: \"Cz\",\n",
        "#     32: \"C4\",\n",
        "#     43: \"CP3\",\n",
        "# }\n",
        "\n",
        "# @title STFT Settings\n",
        "TIME_OFFSET = 0\n",
        "TIME_WINDOW = 2\n",
        "fs = 512\n",
        "N_SAMPLES = int(TIME_WINDOW*512)\n",
        "\n",
        "T_HOP = int(0.05 * N_SAMPLES) #int(0.0125 * TIME_WINDOW *fs)\n",
        "WINDOW_SIZE = int(0.1 * N_SAMPLES)\n",
        "NFFT = 1024\n",
        "window = hamming(WINDOW_SIZE, sym=True)\n",
        "STFT = ShortTimeFFT(window, T_HOP, fs=fs, mfft=NFFT, scale_to=\"psd\")\n",
        "\n",
        "freq_idx = (STFT.f>=8) & (STFT.f<=30)\n",
        "n_freqs = len(STFT.f[freq_idx])\n",
        "n_times = int(fs*TIME_WINDOW / T_HOP) + 1\n",
        "print(n_freqs, n_times)\n",
        "print(NFFT, T_HOP, N_SAMPLES)"
      ],
      "metadata": {
        "colab": {
          "base_uri": "https://localhost:8080/"
        },
        "id": "4kx5LO3tnkK8",
        "outputId": "bcf1200c-a400-4e42-f096-e1355c6e9162",
        "cellView": "form"
      },
      "execution_count": null,
      "outputs": [
        {
          "output_type": "stream",
          "name": "stdout",
          "text": [
            "45 21\n",
            "1024 51 1024\n"
          ]
        }
      ]
    },
    {
      "cell_type": "markdown",
      "metadata": {
        "id": "642MYa9bZB9R"
      },
      "source": [
        "## STFT Feature Computation"
      ]
    },
    {
      "cell_type": "code",
      "source": [
        "subjects = os.listdir('edffile')"
      ],
      "metadata": {
        "id": "hvubFG9EdI0X"
      },
      "execution_count": 12,
      "outputs": []
    },
    {
      "cell_type": "code",
      "source": [
        "# @title Functions\n",
        "\n",
        "def get_subject_imagery_epochs(subject):\n",
        "  left_imagery_epochs = []\n",
        "  right_imagery_epochs = []\n",
        "\n",
        "  raw = mne.io.read_raw_edf(os.path.join('edffile', subject, 'eeg', f'{subject}_task-motor-imagery_eeg.edf'))\n",
        "  eeg_data = raw.get_data()\n",
        "\n",
        "  for annotn in annotations:\n",
        "    s_idx = annotn[0]\n",
        "    e_idx = annotn[0] + annotn[1]\n",
        "\n",
        "    epoch = eeg_data[:, s_idx:e_idx]\n",
        "    if annotn[2]==1:\n",
        "      left_imagery_epochs.append(epoch)\n",
        "    elif annotn[2]==2:\n",
        "      right_imagery_epochs.append(epoch)\n",
        "\n",
        "  left_imagery_epochs = np.array(left_imagery_epochs)\n",
        "  right_imagery_epochs = np.array(right_imagery_epochs)\n",
        "\n",
        "  return left_imagery_epochs, right_imagery_epochs\n",
        "\n",
        "def get_all_subjects_imagery_epochs(subjects):\n",
        "  left_imagery_epochs = None\n",
        "  right_imagery_epochs = None\n",
        "\n",
        "  for subject in subjects:\n",
        "    left_imagery, right_imagery = get_subject_imagery_epochs(subject)\n",
        "\n",
        "    if left_imagery_epochs is None:\n",
        "      left_imagery_epochs = left_imagery\n",
        "    else:\n",
        "      left_imagery_epochs = np.concatenate((left_imagery_epochs, left_imagery), axis=0)\n",
        "\n",
        "    if right_imagery_epochs is None:\n",
        "      right_imagery_epochs = right_imagery\n",
        "    else:\n",
        "      right_imagery_epochs = np.concatenate((right_imagery_epochs, right_imagery), axis=0)\n",
        "\n",
        "    clear_output()\n",
        "\n",
        "  return left_imagery_epochs, right_imagery_epochs\n",
        "\n",
        "def preprocess_epochs(subject_epochs, preprocessing_pipeline=None):\n",
        "  subject_epochs = mne.filter.filter_data(subject_epochs, sfreq=fs, l_freq=0.5, h_freq=40)\n",
        "\n",
        "  if preprocessing_pipeline is None:\n",
        "    return subject_epochs\n",
        "  else:\n",
        "    pass"
      ],
      "metadata": {
        "id": "GL8KCeDVZUUs",
        "cellView": "form"
      },
      "execution_count": 13,
      "outputs": []
    },
    {
      "cell_type": "code",
      "execution_count": 14,
      "metadata": {
        "id": "FnOmRhLeJ3lZ"
      },
      "outputs": [],
      "source": [
        "left_imagery, right_imagery = get_all_subjects_imagery_epochs(subjects)\n",
        "\n",
        "left_imagery = preprocess_epochs(left_imagery)\n",
        "right_imagery = preprocess_epochs(right_imagery)\n",
        "\n",
        "left_imagery = left_imagery[::2]\n",
        "right_imagery = right_imagery[::2]\n",
        "\n",
        "time.sleep(0.25)\n",
        "clear_output()"
      ]
    },
    {
      "cell_type": "code",
      "source": [
        "assert left_imagery.shape == right_imagery.shape\n",
        "N = left_imagery.shape[-1]\n",
        "left_imagery.shape, right_imagery.shape"
      ],
      "metadata": {
        "colab": {
          "base_uri": "https://localhost:8080/"
        },
        "id": "yerfK4LsqKsZ",
        "outputId": "d67eac4a-ce71-46d5-92a7-2b31834389af"
      },
      "execution_count": 15,
      "outputs": [
        {
          "output_type": "execute_result",
          "data": {
            "text/plain": [
              "((500, 33, 2000), (500, 33, 2000))"
            ]
          },
          "metadata": {},
          "execution_count": 15
        }
      ]
    },
    {
      "cell_type": "code",
      "source": [
        "left_imagery = left_imagery - left_imagery.mean(axis=1, keepdims=True)\n",
        "right_imagery = right_imagery - right_imagery.mean(axis=1, keepdims=True)"
      ],
      "metadata": {
        "id": "qvYQxTkFzhQM"
      },
      "execution_count": 16,
      "outputs": []
    },
    {
      "cell_type": "code",
      "source": [
        "assert left_imagery.shape == right_imagery.shape\n",
        "N = left_imagery.shape[-1]\n",
        "left_imagery.shape, right_imagery.shape"
      ],
      "metadata": {
        "colab": {
          "base_uri": "https://localhost:8080/"
        },
        "id": "3lei30k7zyqn",
        "outputId": "b77ce5ee-ac25-4180-e18c-37d61dc86d12"
      },
      "execution_count": 17,
      "outputs": [
        {
          "output_type": "execute_result",
          "data": {
            "text/plain": [
              "((500, 33, 2000), (500, 33, 2000))"
            ]
          },
          "metadata": {},
          "execution_count": 17
        }
      ]
    },
    {
      "cell_type": "code",
      "source": [
        "# c3 = channels_map['C3']\n",
        "# c4 = channels_map['C4']\n",
        "# new_left_imagery = left_imagery[:, c3, :] - left_imagery[:, c4, :]\n",
        "# new_right_imagery = right_imagery[:, c3, :] - right_imagery[:, c4, :]"
      ],
      "metadata": {
        "id": "cmP_YZDAwlzn"
      },
      "execution_count": 18,
      "outputs": []
    },
    {
      "cell_type": "code",
      "source": [
        "# new_left_imagery.shape, new_right_imagery.shape"
      ],
      "metadata": {
        "id": "LEig0Qicw84a"
      },
      "execution_count": 19,
      "outputs": []
    },
    {
      "cell_type": "code",
      "execution_count": 20,
      "metadata": {
        "id": "bqw0EdVbd1RP",
        "colab": {
          "base_uri": "https://localhost:8080/"
        },
        "outputId": "db679b00-140d-4e39-dda5-c6e6d4f2f593",
        "cellView": "form"
      },
      "outputs": [
        {
          "output_type": "stream",
          "name": "stdout",
          "text": [
            "(f, n): (90, 113)\n"
          ]
        },
        {
          "output_type": "stream",
          "name": "stderr",
          "text": [
            "Generating Left Imagery STFTs: 100%|██████████| 500/500 [01:20<00:00,  6.19it/s]\n",
            "Generating Right Imagery STFTs: 100%|██████████| 500/500 [01:20<00:00,  6.20it/s]\n"
          ]
        },
        {
          "output_type": "execute_result",
          "data": {
            "text/plain": [
              "((500, 33, 90, 113), (500, 33, 90, 113))"
            ]
          },
          "metadata": {},
          "execution_count": 20
        }
      ],
      "source": [
        "# @title STFT Computation\n",
        "\n",
        "from scipy.signal.windows import hann\n",
        "from scipy.signal import ShortTimeFFT\n",
        "\n",
        "W = 250\n",
        "window = hann(W, sym=False)\n",
        "hop_ = int(0.01*N)\n",
        "nfft = 2048\n",
        "f1, f2 = 8, 30\n",
        "\n",
        "SFT = ShortTimeFFT(window, hop_, fs, mfft=nfft, scale_to='magnitude')\n",
        "freqs = (SFT.f>=f1) & (SFT.f<=f2)\n",
        "n_freqs = len(SFT.f[freqs])\n",
        "n_times = np.ceil((N + W)/hop_).astype(int).item()\n",
        "print(f\"(f, n): {(n_freqs, n_times)}\")\n",
        "\n",
        "left_imagery_stft = []\n",
        "right_imagery_stft = []\n",
        "\n",
        "for epoch in tqdm(left_imagery, total=left_imagery.shape[0], desc=\"Generating Left Imagery STFTs\"):\n",
        "  epoch_stft = SFT.spectrogram(epoch, axis=-1)\n",
        "  epoch_stft = epoch_stft[:, freqs, :]\n",
        "  epoch_stft = (epoch_stft - epoch_stft.min()) / (epoch_stft.max() - epoch_stft.min())\n",
        "  left_imagery_stft.append(epoch_stft)\n",
        "left_imagery_stft = np.array(left_imagery_stft)\n",
        "\n",
        "for epoch in tqdm(right_imagery, total=right_imagery.shape[0], desc=\"Generating Right Imagery STFTs\"):\n",
        "  epoch_stft = SFT.spectrogram(epoch, axis=-1)\n",
        "  epoch_stft = epoch_stft[:, freqs, :]\n",
        "  right_imagery_stft.append(epoch_stft)\n",
        "right_imagery_stft = np.array(right_imagery_stft)\n",
        "\n",
        "left_imagery_stft.shape, right_imagery_stft.shape"
      ]
    },
    {
      "cell_type": "markdown",
      "metadata": {
        "id": "3PmyBeoXyV-G"
      },
      "source": [
        "## STFT-CNN Classification"
      ]
    },
    {
      "cell_type": "code",
      "source": [
        "import torch\n",
        "import torch.nn as nn\n",
        "import torch.nn.functional as F\n",
        "import torchvision.models as models\n",
        "\n",
        "SEED = 42\n",
        "torch.manual_seed(SEED)\n",
        "np.random.seed(SEED)\n",
        "random.seed(SEED)\n",
        "torch.backends.cudnn.deterministic = True\n",
        "torch.backends.cudnn.benchmark = False\n",
        "\n",
        "device = \"cuda\" if torch.cuda.is_available() else \"cpu\""
      ],
      "metadata": {
        "id": "_RND1fmca6JS"
      },
      "execution_count": 21,
      "outputs": []
    },
    {
      "cell_type": "code",
      "execution_count": 22,
      "metadata": {
        "cellView": "form",
        "id": "R9RvU6ltCX4l"
      },
      "outputs": [],
      "source": [
        "# @title Training Helpers\n",
        "\n",
        "class LRScheduler:\n",
        "\n",
        "    def __init__(self, lr, patience, factor=0.7, margin=0.1, n_evals=100):\n",
        "        self.lr0 = lr\n",
        "        self.lr = lr\n",
        "        self.patience = patience\n",
        "        self.factor = factor\n",
        "        self.steps =1\n",
        "        self.counts = 0\n",
        "        self.best_metric = float(\"inf\")\n",
        "        self.margin = margin\n",
        "        self.n_evals = n_evals\n",
        "\n",
        "    def exponential_lr(self, metric):\n",
        "        if metric - self.best_metric > self.margin:\n",
        "            self.counts += 1\n",
        "            if self.counts >= self.patience:\n",
        "                self.best_metric = metric\n",
        "                self.counts = 0\n",
        "                self.steps += 1\n",
        "                self.lr = self.lr0*math.exp(-1*self.factor*self.steps)\n",
        "                if self.lr < 3E-8:\n",
        "                    self.lr = 3E-8\n",
        "        elif metric + self.margin < self.best_metric:\n",
        "            self.best_metric = metric\n",
        "            self.counts = 0\n",
        "        return self.lr\n",
        "\n",
        "\n",
        "class EarlyStopping:\n",
        "\n",
        "    def __init__(self, patience, margin=0.1):\n",
        "        self.patience = patience\n",
        "        self.margin = margin\n",
        "        self.steps = 0\n",
        "\n",
        "    def check(self, train_metric, val_metric):\n",
        "        if abs(train_metric - val_metric) > self.margin:\n",
        "            self.steps += 1\n",
        "        else:\n",
        "            self.steps = 0\n",
        "\n",
        "        if self.steps >= self.patience:\n",
        "            return True\n",
        "        else:\n",
        "            return False\n",
        "\n",
        "class CheckpointModel:\n",
        "\n",
        "    def __init__(self, margin):\n",
        "        self.margin = margin\n",
        "        self.best_metric = float(\"inf\")\n",
        "        self.best_state = None\n",
        "\n",
        "    def checkpoint(self, metric, model, message=f\"Checkpint Model @ Loss\"):\n",
        "        if metric + self.margin < self.best_metric:\n",
        "            self.best_metric = metric\n",
        "            self.best_state = model.state_dict()\n",
        "            if message!=None:\n",
        "              print(message)\n",
        "\n",
        "def init_weights_kaiming_normal(self):\n",
        "  for m in self.modules():\n",
        "    if isinstance(m, nn.Conv2d):\n",
        "      nn.init.kaiming_normal_(m.weight, mode='fan_out', nonlinearity='leaky_relu')\n",
        "    elif isinstance(m, nn.BatchNorm2d):\n",
        "      nn.init.constant_(m.weight, 1)\n",
        "      nn.init.constant_(m.bias, 0)\n",
        "    elif isinstance(m, nn.Linear):\n",
        "      nn.init.normal_(m.weight, 0, 0.01)\n",
        "      nn.init.constant_(m.bias, 0)\n",
        "\n",
        "def accuracy_score(logits, classes):\n",
        "    probs = F.softmax(logits, dim=-1)\n",
        "    pred = torch.argmax(probs, dim=-1)\n",
        "    acc = (pred == classes)\n",
        "    acc  = acc.sum()/len(acc)\n",
        "    return acc\n",
        "\n",
        "def binary_acc(y_pred, y_test):\n",
        "    # y_pred_tag = torch.round(torch.sigmoid(y_pred))\n",
        "    y_pred_tag = torch.where(y_pred >= 0.5, 1, 0)\n",
        "\n",
        "    correct_results_sum = (y_pred_tag == y_test).sum().float()\n",
        "    acc = correct_results_sum/y_test.shape[0]\n",
        "    acc = torch.round(acc * 100)\n",
        "\n",
        "    return acc"
      ]
    },
    {
      "cell_type": "code",
      "execution_count": 23,
      "metadata": {
        "id": "9b-3-1x65Fsu",
        "cellView": "form"
      },
      "outputs": [],
      "source": [
        "# @title Dataset Class & Augmentation Class\n",
        "\n",
        "from sklearn.model_selection import StratifiedShuffleSplit\n",
        "import torch\n",
        "from torch.utils.data import Subset, Dataset, DataLoader\n",
        "from einops import rearrange\n",
        "\n",
        "class Compose:\n",
        "  def __init__(self, transforms):\n",
        "    self.transforms = transforms\n",
        "\n",
        "  def __call__(self, x):\n",
        "    for t in self.transforms:\n",
        "      x = t(x)\n",
        "    return x\n",
        "\n",
        "class Masking:\n",
        "  '''\n",
        "  Augmentation for EEG spectrograms: masking channels, time, and frequency.\n",
        "  '''\n",
        "  def __init__(self, channel_dropout_prob=0.1, time_mask_width=4, freq_mask_width=4):\n",
        "    self.channel_dropout_prob = channel_dropout_prob\n",
        "    self.time_mask_width = time_mask_width\n",
        "    self.freq_mask_width = freq_mask_width\n",
        "\n",
        "  def __call__(self, x):\n",
        "    F, T = x.size()\n",
        "\n",
        "    # # --- Channel Dropout ---\n",
        "    # if random.random() < self.channel_dropout_prob:\n",
        "    #   num_drop = max(1, int(C * self.channel_dropout_prob))\n",
        "    #   drop_indices = random.sample(range(C), num_drop)\n",
        "    #   x[:, :, drop_indices] = 0\n",
        "\n",
        "    # --- Time Masking ---\n",
        "    if T > self.time_mask_width:\n",
        "      t0 = random.randint(0, T - self.time_mask_width)\n",
        "      x[:, t0:t0+self.time_mask_width] = 0\n",
        "\n",
        "    # --- Frequency Masking ---\n",
        "    if F > self.freq_mask_width:\n",
        "      f0 = random.randint(0, F - self.freq_mask_width)\n",
        "      x[f0:f0+self.freq_mask_width, :] = 0\n",
        "\n",
        "    return x\n",
        "\n",
        "class TimeShifting:\n",
        "    '''\n",
        "    Augmentation for EEG spectrograms: shifts the time dimension by a random amount.\n",
        "    '''\n",
        "    def __init__(self, max_shift_ratio=0.2):\n",
        "        \"\"\"\n",
        "        Parameters:\n",
        "        max_shift_ratio (float): Maximum amount to shift as a ratio of the total time dimension\n",
        "                                 (e.g., 0.2 means shift up to 20% of the time axis)\n",
        "        \"\"\"\n",
        "        self.max_shift_ratio = max_shift_ratio\n",
        "\n",
        "    def __call__(self, x):\n",
        "        F, T = x.size()\n",
        "\n",
        "        # Calculate the maximum shift in time steps\n",
        "        max_shift = int(T * self.max_shift_ratio)\n",
        "        if max_shift < 1:\n",
        "            return x\n",
        "\n",
        "        # Generate a random shift amount (-max_shift to max_shift)\n",
        "        shift_amount = random.randint(-max_shift, max_shift)\n",
        "\n",
        "        # Create a shifted version using roll\n",
        "        shifted_x = torch.roll(x, shifts=shift_amount, dims=1)\n",
        "\n",
        "        # If shifting right, zero out the beginning\n",
        "        if shift_amount > 0:\n",
        "            shifted_x[:, :shift_amount] = 0\n",
        "        # If shifting left, zero out the end\n",
        "        elif shift_amount < 0:\n",
        "            shifted_x[:, shift_amount:] = 0\n",
        "\n",
        "        return shifted_x\n",
        "\n",
        "\n",
        "class NoiseAugmentation:\n",
        "    '''\n",
        "    Augmentation for EEG spectrograms: adds different types of noise.\n",
        "    '''\n",
        "    def __init__(self, noise_types=['gaussian', 'saltpepper'],\n",
        "                 gaussian_std_range=(0.01, 0.05),\n",
        "                 saltpepper_prob_range=(0.01, 0.05),\n",
        "                 saltpepper_intensity_range=(0.2, 1.0)):\n",
        "        \"\"\"\n",
        "        Parameters:\n",
        "        noise_types (list): Types of noise to potentially apply ('gaussian', 'saltpepper')\n",
        "        gaussian_std_range (tuple): Range for standard deviation for Gaussian noise\n",
        "        saltpepper_prob_range (tuple): Range for probability of salt and pepper noise\n",
        "        saltpepper_intensity_range (tuple): Range for intensity of salt and pepper noise\n",
        "        \"\"\"\n",
        "        self.noise_types = noise_types\n",
        "        self.gaussian_std_range = gaussian_std_range\n",
        "        self.saltpepper_prob_range = saltpepper_prob_range\n",
        "        self.saltpepper_intensity_range = saltpepper_intensity_range\n",
        "\n",
        "    def __call__(self, x):\n",
        "        # Choose one noise type randomly\n",
        "        noise_type = random.choice(self.noise_types)\n",
        "\n",
        "        if noise_type == 'gaussian':\n",
        "            return self._add_gaussian_noise(x)\n",
        "        elif noise_type == 'saltpepper':\n",
        "            return self._add_saltpepper_noise(x)\n",
        "        return x\n",
        "\n",
        "    def _add_gaussian_noise(self, x):\n",
        "        std = random.uniform(*self.gaussian_std_range)\n",
        "        noise = torch.randn_like(x) * std\n",
        "        return torch.clamp(x + noise, 0.0, 1.0)  # Assuming data is normalized to [0, 1]\n",
        "\n",
        "    def _add_saltpepper_noise(self, x):\n",
        "        prob = random.uniform(*self.saltpepper_prob_range)\n",
        "        intensity = random.uniform(*self.saltpepper_intensity_range)\n",
        "\n",
        "        # Create a mask for the noise positions\n",
        "        mask = torch.rand_like(x) < prob\n",
        "\n",
        "        # Create salt (high value) and pepper (low value) masks\n",
        "        salt = mask & (torch.rand_like(x) < 0.5)\n",
        "        pepper = mask & ~salt\n",
        "\n",
        "        # Apply salt and pepper noise\n",
        "        result = x.clone()\n",
        "        result[salt] = torch.clamp(result[salt] + intensity, 0.0, 1.0)\n",
        "        result[pepper] = torch.clamp(result[pepper] - intensity, 0.0, 1.0)\n",
        "\n",
        "        return result\n",
        "\n",
        "# from fancyPCA import *\n",
        "# class FancyPCA:\n",
        "\n",
        "#   def __init__(self, alpha):\n",
        "#     self.alpha = alpha\n",
        "\n",
        "#   def __call__(self, x):\n",
        "#     res = batch_fpca(x, self.alpha)\n",
        "#     return res\n",
        "\n",
        "class elbowMIDataset(Dataset):\n",
        "\n",
        "  def __init__(self, X, y=None, transform=None, augment_prob=0.3):\n",
        "    super(elbowMIDataset, self).__init__()\n",
        "    self.X = torch.tensor(X, dtype=torch.float32)\n",
        "    if y is not None:\n",
        "      self.y = torch.tensor(y, dtype=torch.long)\n",
        "    else:\n",
        "      self.y = None\n",
        "    self.transform = transform\n",
        "    self.transform_p = augment_prob\n",
        "\n",
        "  def __len__(self):\n",
        "    if self.y is not None:\n",
        "      assert len(self.X) == len(self.y)\n",
        "    return self.X.size(0)\n",
        "\n",
        "  def __getitem__(self, idx):\n",
        "    x = self.X[idx,::]\n",
        "    if (self.transform is not None) and (random.random()<self.transform_p):\n",
        "      x = self.transform(x)\n",
        "    if self.y is not None:\n",
        "      return x, self.y[idx]\n",
        "    return x"
      ]
    },
    {
      "cell_type": "markdown",
      "source": [
        "#### Dataset & DataLoader"
      ],
      "metadata": {
        "id": "0-F0yJuK-Fbz"
      }
    },
    {
      "cell_type": "code",
      "source": [
        "from sklearn.model_selection import GroupShuffleSplit, StratifiedShuffleSplit\n",
        "\n",
        "def stratified_split(X, y, test_size=0.2):\n",
        "  sss = StratifiedShuffleSplit(n_splits=1, test_size=test_size, random_state=42)\n",
        "  train_idx, test_idx = next(sss.split(X, y))\n",
        "\n",
        "  return (X[train_idx, ::], y[train_idx]), (X[test_idx, ::], y[test_idx])\n",
        "\n",
        "def make_channel_image(X, ch):\n",
        "  B, C, _, _ = X.shape\n",
        "  X_img = np.empty((B, C, 224, 224))\n",
        "\n",
        "  for ch_idx in range(X.shape[1]):\n",
        "    for s_idx in range(X.shape[0]):\n",
        "\n",
        "      arr = X[s_idx, ch_idx, ::]\n",
        "      arr = cv2.normalize(arr, None, 0, 255, cv2.NORM_MINMAX)\n",
        "      arr = arr.astype(np.uint8)\n",
        "      arr = cv2.resize(arr, (224, 224), interpolation=cv2.INTER_LINEAR)\n",
        "      arr = arr.reshape((1, 224, 224))\n",
        "      X_img[s_idx, ch_idx, ::] = arr\n",
        "\n",
        "  return X_img\n",
        "\n",
        "from fancyPCA import *\n",
        "def FancyPCA_Augmentation(X, y, alpha, ratio):\n",
        "  N = int(ratio*len(X))\n",
        "  idx = np.random.choice(len(X), N, replace=False)\n",
        "  x = X[idx, ::]\n",
        "  y = y[idx]\n",
        "\n",
        "  x = batch_fpca(x, alpha)\n",
        "  return x, y"
      ],
      "metadata": {
        "id": "zNSesA1svFAg"
      },
      "execution_count": 24,
      "outputs": []
    },
    {
      "cell_type": "code",
      "source": [
        "from PIL import Image\n",
        "import cv2\n",
        "\n",
        "y = [0]*left_imagery_stft.shape[0] + [1]*right_imagery_stft.shape[0]\n",
        "y = np.array(y)\n",
        "\n",
        "fz = channels_map['Fz']\n",
        "f3 = channels_map['F3']\n",
        "f4 = channels_map['F4']\n",
        "fcz = channels_map['FCz']\n",
        "fc3 = channels_map['FC3']\n",
        "fc4 = channels_map['FC4']\n",
        "c3 = channels_map['C3']\n",
        "c4 = channels_map['C4']\n",
        "cz = channels_map['Cz']\n",
        "cp3 = channels_map['CP3']\n",
        "cp4 = channels_map['CP4']\n",
        "p3 = channels_map['P3']\n",
        "p4 = channels_map['P4']\n",
        "pz = channels_map['Pz']\n",
        "\n",
        "choi = [c3, c4, cz]\n",
        "\n",
        "\n",
        "# --> Data Pipeline 1\n",
        "# temp_c3 = np.vstack((\n",
        "#     left_imagery_stft[:, c3, :, :] - left_imagery_stft[:, c4, :, :],\n",
        "#     right_imagery_stft[:, c3, :, :] - right_imagery_stft[:, c4, :, :],\n",
        "# ))\n",
        "# temp_c3_c4 = np.expand_dims(temp_c3_c4, axis=1)\n",
        "# temp_c3_cz = np.vstack((\n",
        "#     left_imagery_stft[:, c3, :, :] - left_imagery_stft[:, cz, :, :],\n",
        "#     right_imagery_stft[:, c3, :, :] - right_imagery_stft[:, cz, :, :],\n",
        "# ))\n",
        "# temp_c3_cz = np.expand_dims(temp_c3_cz, axis=1)\n",
        "# temp_c4_cz = np.vstack((\n",
        "#     left_imagery_stft[:, c4, :, :] - left_imagery_stft[:, cz, :, :],\n",
        "#     right_imagery_stft[:, c4, :, :] - right_imagery_stft[:, cz, :, :],\n",
        "# ))\n",
        "# temp_c4_cz = np.expand_dims(temp_c4_cz, axis=1)\n",
        "# temp_X = np.concatenate((temp_c3_c4, temp_c3_cz, temp_c4_cz), axis=1)\n",
        "\n",
        "# --> Data Pipeline 2\n",
        "temp_X = np.vstack((\n",
        "    left_imagery_stft[:, [c3, c4, cz], :, :],\n",
        "    right_imagery_stft[:, [c3, c4, cz], :, :],\n",
        "))\n",
        "temp_X = np.log1p(temp_X)\n",
        "\n",
        "# --> Data Pipeline 3\n",
        "# temp_X = np.vstack((\n",
        "#     left_imagery_stft[:, [c3, c4, cz, f3, f4, fz], :, :],\n",
        "#     right_imagery_stft[:, [c3, c4, cz, f3, f4, fz], :, :],\n",
        "# ))\n",
        "\n",
        "(X_train, y_train), (X_test, y_test) = stratified_split(temp_X, y, test_size=0.2)\n",
        "X_train_fpca, y_train_fpca = FancyPCA_Augmentation(X_train, y_train, alpha=0.1, ratio=0.1)\n",
        "X_train = np.concatenate((X_train, X_train_fpca), axis=0)\n",
        "y_train = np.concatenate((y_train, y_train_fpca), axis=0)\n",
        "\n",
        "temp_X = None\n",
        "print(f\"Train Size-> X:{X_train.shape}, y:{y_train.shape}\")\n",
        "print(f\"Test Size-> X:{X_test.shape}, y:{y_test.shape}\")"
      ],
      "metadata": {
        "id": "ODNiJunxwqBg",
        "colab": {
          "base_uri": "https://localhost:8080/"
        },
        "outputId": "e310283f-9064-4606-fc9c-a10a4a9c0f22"
      },
      "execution_count": 25,
      "outputs": [
        {
          "output_type": "stream",
          "name": "stdout",
          "text": [
            "Train Size-> X:(880, 3, 90, 113), y:(880,)\n",
            "Test Size-> X:(200, 3, 90, 113), y:(200,)\n"
          ]
        }
      ]
    },
    {
      "cell_type": "code",
      "execution_count": 26,
      "metadata": {
        "id": "QC5tcRz2x-TX",
        "cellView": "form"
      },
      "outputs": [],
      "source": [
        "# @title Make PyTorch DataLoader\n",
        "\n",
        "from torch.utils.data import DataLoader, WeightedRandomSampler\n",
        "import numpy as np\n",
        "import torch\n",
        "import gc\n",
        "from sklearn.model_selection import GroupShuffleSplit, StratifiedShuffleSplit\n",
        "\n",
        "train_batch = 40\n",
        "test_batch = 10\n",
        "\n",
        "# gss = GroupShuffleSplit(n_splits=1, test_size=0.2, random_state=42)\n",
        "# train_idx, test_idx = next(gss.split(X, y, groups=IDs))\n",
        "\n",
        "# sss = StratifiedShuffleSplit(n_splits=1, test_size=0.2, random_state=42)\n",
        "# train_idx, test_idx = next(sss.split(X, y))\n",
        "# X_train = X[train_idx, ::]\n",
        "# y_train = y[train_idx]\n",
        "\n",
        "train = elbowMIDataset(X_train, torch.tensor(y_train).to(torch.float32), transform=None)\n",
        "test = elbowMIDataset(X_test, torch.tensor(y_test).to(torch.float32))\n",
        "\n",
        "g = torch.Generator()\n",
        "g.manual_seed(42)\n",
        "train_loader = DataLoader(train, batch_size=train_batch, shuffle=True, generator=g)\n",
        "test_loader = DataLoader(test, batch_size=test_batch, shuffle=False)"
      ]
    },
    {
      "cell_type": "markdown",
      "source": [
        "#### Models"
      ],
      "metadata": {
        "id": "kDZIxyEq-V93"
      }
    },
    {
      "cell_type": "code",
      "execution_count": 27,
      "metadata": {
        "id": "bPsyU05S5MRw",
        "cellView": "form"
      },
      "outputs": [],
      "source": [
        "# @title CNN\n",
        "\n",
        "import torch.nn.functional as F\n",
        "\n",
        "class SPEC_CNN(nn.Module):\n",
        "  def __init__(self):\n",
        "    super(SPEC_CNN, self).__init__()\n",
        "\n",
        "    self.in_btn = nn.BatchNorm2d(3)\n",
        "    self.conv1 = nn.Conv2d(3, 3, kernel_size=(32, 32), stride=(8, 8), padding=(0, 0), bias=False)\n",
        "    self.relu1 = nn.LeakyReLU(inplace=True)\n",
        "    self.btn1 = nn.BatchNorm2d(3)\n",
        "    self.avgpool1 = nn.AdaptiveAvgPool2d((20, 20))\n",
        "\n",
        "    self.conv2 = nn.Conv2d(3, 1, kernel_size=(1, 3), stride=(1, 2), padding=(0, 0), bias=False)\n",
        "    self.relu2 = nn.LeakyReLU(inplace=True)\n",
        "    self.btn2 = nn.BatchNorm2d(1)\n",
        "\n",
        "    self.fc = nn.Linear(1*20*9, 2)\n",
        "\n",
        "  def forward(self, x):\n",
        "    x = self.in_btn(x)\n",
        "    x = self.conv1(x)\n",
        "    x = self.btn1(x)\n",
        "    x = self.relu1(x)\n",
        "    x = self.avgpool1(x)\n",
        "\n",
        "    x = self.conv2(x)\n",
        "    x = self.btn2(x)\n",
        "    x = self.relu2(x)\n",
        "\n",
        "    x = rearrange(x, 'b c h w -> b (c h w)')\n",
        "    logits = self.fc(x)\n",
        "    return logits\n",
        "\n",
        "class SPEC_CNN_1(nn.Module):\n",
        "  def __init__(self):\n",
        "    super(SPEC_CNN_1, self).__init__()\n",
        "\n",
        "    self.in_btn = nn.BatchNorm2d(3)\n",
        "    self.conv11 = nn.Conv2d(3, 3, kernel_size=(32, 32), stride=(8, 8), padding=(0, 0), bias=False)\n",
        "    self.relu11 = nn.LeakyReLU(inplace=True)\n",
        "    self.btn11 = nn.BatchNorm2d(3)\n",
        "    self.avgpool11 = nn.AdaptiveAvgPool2d((20, 20))\n",
        "\n",
        "    self.conv12 = nn.Conv2d(3, 1, kernel_size=(1, 3), stride=(1, 2), padding=(0, 0), bias=False)\n",
        "    self.relu12 = nn.LeakyReLU(inplace=True)\n",
        "    self.btn12 = nn.BatchNorm2d(1)\n",
        "\n",
        "    self.conv13 = nn.Conv2d(3, 1, kernel_size=(1, 3), stride=(1, 2), padding=(0, 0), bias=False)\n",
        "    self.relu13 = nn.LeakyReLU(inplace=True)\n",
        "    self.btn13 = nn.BatchNorm2d(1)\n",
        "\n",
        "    self.fc12 = nn.Linear(1*20*9, 2*20*9)\n",
        "    self.fc13 = nn.Linear(1*20*9, 2*20*9)\n",
        "\n",
        "    self.fc_dropout = nn.Dropout(p=0.7)\n",
        "    self.fc = nn.Linear(4*20*9, 2)\n",
        "\n",
        "  def forward(self, x):\n",
        "    x = self.in_btn(x)\n",
        "    x = self.conv11(x)\n",
        "    x = self.btn11(x)\n",
        "    x = self.relu11(x)\n",
        "    x = self.avgpool11(x)\n",
        "\n",
        "    x12 = self.conv12(x)\n",
        "    x12 = self.btn12(x12)\n",
        "    x12 = self.relu12(x12)\n",
        "\n",
        "    x13 = rearrange(x, 'b c h w -> b c w h')\n",
        "    x13 = self.conv13(x13)\n",
        "    x13 = self.btn13(x13)\n",
        "    x13 = self.relu13(x13)\n",
        "    x13 = x13\n",
        "\n",
        "    x = torch.cat((x12, x13), dim=1)\n",
        "    x = rearrange(x, 'b c h w -> b (c h w)')\n",
        "    x = F.dropout(x, p=0.8)\n",
        "    logits = self.fc(x)\n",
        "\n",
        "class SPEC_CNN_2(nn.Module):\n",
        "  def __init__(self):\n",
        "    super(SPEC_CNN_2, self).__init__()\n",
        "\n",
        "    self.in_btn = nn.BatchNorm2d(3)\n",
        "    self.conv11 = nn.Conv2d(3, 3, kernel_size=(32, 32), stride=(8, 8), padding=(0, 0), bias=False)\n",
        "    self.relu11 = nn.LeakyReLU(inplace=True)\n",
        "    self.btn11 = nn.BatchNorm2d(3)\n",
        "    self.avgpool11 = nn.AdaptiveAvgPool2d((20, 20))\n",
        "\n",
        "    self.conv12 = nn.Conv2d(3, 1, kernel_size=(1, 3), stride=(1, 2), padding=(0, 0), bias=False)\n",
        "    self.relu12 = nn.LeakyReLU(inplace=True)\n",
        "    self.btn12 = nn.BatchNorm2d(1)\n",
        "\n",
        "    self.conv13 = nn.Conv2d(3, 1, kernel_size=(1, 3), stride=(1, 2), padding=(0, 0), bias=False)\n",
        "    self.relu13 = nn.LeakyReLU(inplace=True)\n",
        "    self.btn13 = nn.BatchNorm2d(1)\n",
        "\n",
        "    self.fc12 = nn.Linear(1*20*9, 2*20*9)\n",
        "    self.fc13 = nn.Linear(1*20*9, 2*20*9)\n",
        "\n",
        "    self.fc_dropout = nn.Dropout(p=0.7)\n",
        "    self.fc = nn.Linear(4*20*9, 2)\n",
        "\n",
        "  def forward(self, x):\n",
        "    x = self.in_btn(x)\n",
        "    x = self.conv11(x)\n",
        "    x = self.btn11(x)\n",
        "    x = self.relu11(x)\n",
        "    x = self.avgpool11(x)\n",
        "\n",
        "    x12 = self.conv12(x)\n",
        "    x12 = self.btn12(x12)\n",
        "    x12 = self.relu12(x12)\n",
        "\n",
        "    x13 = rearrange(x, 'b c h w -> b c w h')\n",
        "    x13 = self.conv13(x13)\n",
        "    x13 = self.btn13(x13)\n",
        "    x13 = self.relu13(x13)\n",
        "    x13 = x13\n",
        "\n",
        "    x12 = rearrange(x12, 'b c h w -> b (c h w)')\n",
        "    x13 = rearrange(x13, 'b c h w -> b (c h w)')\n",
        "    x12 = F.leaky_relu(self.fc12(x12))\n",
        "    x13 = F.leaky_relu(self.fc13(x13))\n",
        "\n",
        "    x = torch.cat((x12, x13), dim=1)\n",
        "    x = self.fc_dropout(x)\n",
        "    logits = self.fc(x)\n",
        "    return logits"
      ]
    },
    {
      "cell_type": "code",
      "source": [
        "# @title Model Forward-Eval\n",
        "\n",
        "def run(model, x, y=None, transforms=None, LBL_SMOOTH=0.0):\n",
        "  if transforms is not None:\n",
        "    x = transforms(x)\n",
        "\n",
        "  logits = model(x)\n",
        "  if y is not None:\n",
        "    # y = y.unsqueeze(1)\n",
        "    # y = y.to(torch.float)\n",
        "    loss = F.cross_entropy(logits, y, label_smoothing=LBL_SMOOTH)\n",
        "    acc = accuracy_score(logits, y)\n",
        "    return logits, loss, acc\n",
        "  return logits"
      ],
      "metadata": {
        "id": "SOEHbh-66H16",
        "cellView": "form"
      },
      "execution_count": 28,
      "outputs": []
    },
    {
      "cell_type": "markdown",
      "metadata": {
        "id": "vHmwFgXhiusT"
      },
      "source": [
        "### Movement-Movement (Execution) Classification"
      ]
    },
    {
      "cell_type": "code",
      "source": [
        "# np.random.seed(42)\n",
        "# torch.use_deterministic_algorithms(False)\n",
        "\n",
        "SEED = 42\n",
        "torch.manual_seed(SEED)\n",
        "np.random.seed(SEED)\n",
        "random.seed(SEED)\n",
        "torch.backends.cudnn.deterministic = False\n",
        "torch.backends.cudnn.benchmark = False\n",
        "\n",
        "# model = resnet18\n",
        "\n",
        "model = SPEC_CNN_2()\n",
        "init_weights_kaiming_normal(model)"
      ],
      "metadata": {
        "id": "VyE0VBeH7D23"
      },
      "execution_count": 29,
      "outputs": []
    },
    {
      "cell_type": "code",
      "source": [
        "# example = torch.randint(0, 255, size=(5, 3, 224, 224)).to(torch.float32)\n",
        "# res = model(example)\n",
        "# res.size()\n",
        "model"
      ],
      "metadata": {
        "colab": {
          "base_uri": "https://localhost:8080/"
        },
        "id": "k3AMLnNApJBk",
        "outputId": "7cb1f171-065b-4bfa-fc83-ec0a5aa7a6d3"
      },
      "execution_count": 30,
      "outputs": [
        {
          "output_type": "execute_result",
          "data": {
            "text/plain": [
              "SPEC_CNN_2(\n",
              "  (in_btn): BatchNorm2d(3, eps=1e-05, momentum=0.1, affine=True, track_running_stats=True)\n",
              "  (conv11): Conv2d(3, 3, kernel_size=(32, 32), stride=(8, 8), bias=False)\n",
              "  (relu11): LeakyReLU(negative_slope=0.01, inplace=True)\n",
              "  (btn11): BatchNorm2d(3, eps=1e-05, momentum=0.1, affine=True, track_running_stats=True)\n",
              "  (avgpool11): AdaptiveAvgPool2d(output_size=(20, 20))\n",
              "  (conv12): Conv2d(3, 1, kernel_size=(1, 3), stride=(1, 2), bias=False)\n",
              "  (relu12): LeakyReLU(negative_slope=0.01, inplace=True)\n",
              "  (btn12): BatchNorm2d(1, eps=1e-05, momentum=0.1, affine=True, track_running_stats=True)\n",
              "  (conv13): Conv2d(3, 1, kernel_size=(1, 3), stride=(1, 2), bias=False)\n",
              "  (relu13): LeakyReLU(negative_slope=0.01, inplace=True)\n",
              "  (btn13): BatchNorm2d(1, eps=1e-05, momentum=0.1, affine=True, track_running_stats=True)\n",
              "  (fc12): Linear(in_features=180, out_features=360, bias=True)\n",
              "  (fc13): Linear(in_features=180, out_features=360, bias=True)\n",
              "  (fc_dropout): Dropout(p=0.7, inplace=False)\n",
              "  (fc): Linear(in_features=720, out_features=2, bias=True)\n",
              ")"
            ]
          },
          "metadata": {},
          "execution_count": 30
        }
      ]
    },
    {
      "cell_type": "code",
      "execution_count": null,
      "metadata": {
        "cellView": "form",
        "id": "lYx1B4sc5U6M"
      },
      "outputs": [],
      "source": [
        "# @title Network weights and gradients\n",
        "\n",
        "plt.figure(figsize=(12, 5))\n",
        "\n",
        "    # Create two subplots\n",
        "ax1 = plt.subplot(1, 2, 1)  # For weights\n",
        "ax2 = plt.subplot(1, 2, 2)  # For gradients\n",
        "\n",
        "# Define colors for layers\n",
        "colors = ['b', 'g', 'r', 'c', 'm', 'y', 'k']\n",
        "\n",
        "for i, (name, param) in enumerate(model.named_parameters()):\n",
        "\n",
        "  # if name == \"fc_final.weight\":\n",
        "  #   continue\n",
        "\n",
        "  if 'weight' in name:\n",
        "      color = colors[i % len(colors)]  # Cycle through colors\n",
        "\n",
        "      if (\"batch\" in name):\n",
        "        continue\n",
        "      if (\"fc\" in name):\n",
        "        continue\n",
        "\n",
        "      # Plot weight distribution\n",
        "      ax1.hist(param.data.cpu().numpy().flatten(), bins=50, alpha=0.5, label=name, color=color)\n",
        "\n",
        "      # Plot gradient distribution (if available)\n",
        "      # if param.grad is not None:\n",
        "      #     ax2.hist(param.grad.cpu().numpy().flatten(), bins=50, alpha=0.5, label=name, color=color)\n",
        "      # print(\n",
        "      #     name,\n",
        "      #     (param.data.cpu().numpy().flatten().min(), param.data.cpu().numpy().flatten().max()), \"gradient\",\n",
        "      #     (param.grad.cpu().numpy().flatten().min(), param.grad.cpu().numpy().flatten().max())\n",
        "      # )\n",
        "\n",
        "# Configure weight subplot\n",
        "ax1.set_title('Weight Distributions')\n",
        "ax1.set_xlabel('Weight Value')\n",
        "ax1.set_ylabel('Frequency')\n",
        "ax1.legend()\n",
        "\n",
        "# Configure gradient subplot\n",
        "ax2.set_title('Gradient Distributions')\n",
        "ax2.set_xlabel('Gradient Value')\n",
        "ax2.set_ylabel('Frequency')\n",
        "ax2.legend(loc=\"upper right\")\n",
        "\n",
        "plt.tight_layout()\n",
        "plt.show()"
      ]
    },
    {
      "cell_type": "code",
      "execution_count": 31,
      "metadata": {
        "colab": {
          "base_uri": "https://localhost:8080/"
        },
        "id": "W8knRm-76MbR",
        "outputId": "c3ab9b36-2656-4919-abd3-2276c6a59f27",
        "cellView": "form"
      },
      "outputs": [
        {
          "output_type": "stream",
          "name": "stderr",
          "text": [
            "Training:   0%|          | 1/4000 [00:01<1:59:13,  1.79s/it]"
          ]
        },
        {
          "output_type": "stream",
          "name": "stdout",
          "text": [
            "Checkpoint @1/4000: testLoss:0.6931, testAcc:0.44\n"
          ]
        },
        {
          "output_type": "stream",
          "name": "stderr",
          "text": [
            "Training:   1%|          | 42/4000 [00:09<11:22,  5.80it/s]"
          ]
        },
        {
          "output_type": "stream",
          "name": "stdout",
          "text": [
            "Checkpoint @41/4000: testLoss:0.5902, testAcc:0.96\n"
          ]
        },
        {
          "output_type": "stream",
          "name": "stderr",
          "text": [
            "Training:   3%|▎         | 102/4000 [00:19<11:02,  5.88it/s]"
          ]
        },
        {
          "output_type": "stream",
          "name": "stdout",
          "text": [
            "Checkpoint @101/4000: testLoss:0.4814, testAcc:0.97\n"
          ]
        },
        {
          "output_type": "stream",
          "name": "stderr",
          "text": [
            "Training:   5%|▍         | 192/4000 [00:35<11:08,  5.70it/s]"
          ]
        },
        {
          "output_type": "stream",
          "name": "stdout",
          "text": [
            "Checkpoint @191/4000: testLoss:0.3771, testAcc:0.98\n"
          ]
        },
        {
          "output_type": "stream",
          "name": "stderr",
          "text": [
            "Training:   9%|▊         | 342/4000 [01:01<10:40,  5.71it/s]"
          ]
        },
        {
          "output_type": "stream",
          "name": "stdout",
          "text": [
            "Checkpoint @341/4000: testLoss:0.2748, testAcc:0.99\n"
          ]
        },
        {
          "output_type": "stream",
          "name": "stderr",
          "text": [
            "Training:  17%|█▋        | 662/4000 [01:57<09:28,  5.87it/s]"
          ]
        },
        {
          "output_type": "stream",
          "name": "stdout",
          "text": [
            "Checkpoint @661/4000: testLoss:0.1681, testAcc:1.00\n"
          ]
        },
        {
          "output_type": "stream",
          "name": "stderr",
          "text": [
            "Training:  53%|█████▎    | 2102/4000 [06:08<06:32,  4.84it/s]"
          ]
        },
        {
          "output_type": "stream",
          "name": "stdout",
          "text": [
            "Checkpoint @2101/4000: testLoss:0.0679, testAcc:0.99\n"
          ]
        },
        {
          "output_type": "stream",
          "name": "stderr",
          "text": [
            "Training: 100%|██████████| 4000/4000 [11:40<00:00,  5.71it/s]\n"
          ]
        }
      ],
      "source": [
        "# @title Train\n",
        "\n",
        "from sklearn.metrics import average_precision_score\n",
        "from sklearn.preprocessing import label_binarize\n",
        "# from torchmetrics.classification import MulticlassAveragePrecision\n",
        "# mAP = MulticlassAveragePrecision(num_classes=6, average=\"macro\")\n",
        "\n",
        "device = \"cuda\" if torch.cuda.is_available() else \"cpu\"\n",
        "\n",
        "torch.cuda.empty_cache()\n",
        "\n",
        "SEED = 42\n",
        "torch.manual_seed(SEED)\n",
        "np.random.seed(SEED)\n",
        "random.seed(SEED)\n",
        "torch.backends.cudnn.deterministic = True\n",
        "torch.backends.cudnn.benchmark = False\n",
        "\n",
        "n_iter = 4000\n",
        "eval_inter = 10\n",
        "n_evals = int(X_train.shape[0] / train_batch)\n",
        "\n",
        "history = {\n",
        "    \"train_loss\": [],\n",
        "    \"test_loss\": [],\n",
        "    \"train_acc\": [],\n",
        "    \"test_acc\": [],\n",
        "    \"train_precision\": [],\n",
        "    \"test_precision\": [],\n",
        "    \"iter\": [],\n",
        "    \"lr\": []\n",
        "}\n",
        "\n",
        "lr_ = 3E-4\n",
        "momentum_ = 0.0\n",
        "betas_ = (0.9, 0.99)\n",
        "optimizer = torch.optim.SGD(model.parameters(), lr=lr_, momentum=momentum_, weight_decay=0.0)\n",
        "# optimizer = torch.optim.Adam(model.parameters(), lr=lr_, betas=betas_, weight_decay=0.0)\n",
        "# lr_scheduler = LRScheduler(lr_, patience=10, factor=0.9, margin=1E-4, n_evals=10)\n",
        "lr_scheduler = torch.optim.lr_scheduler.ReduceLROnPlateau(optimizer, mode='min', factor=0.7, patience=5, threshold=1E-4, min_lr=7E-4, verbose=False)\n",
        "moment_scheduler = LRScheduler(momentum_, patience=2, factor=0.3, margin=0.01, n_evals=10)\n",
        "\n",
        "chkpt = CheckpointModel(0.1)\n",
        "LBL_SMOOTH = 0.0\n",
        "l1_lambda = 1E-5\n",
        "\n",
        "model.to(device)\n",
        "\n",
        "for i in tqdm(range(n_iter), desc=\"Training\", total=n_iter):\n",
        "\n",
        "  model.train()\n",
        "  train_loss = 0\n",
        "  train_acc = 0\n",
        "  train_precision = 0\n",
        "  for j, (x, y) in enumerate(train_loader):\n",
        "    if j>= n_evals:\n",
        "      break\n",
        "    x, y = x.to(device), y.to(device)\n",
        "    # print(f\"Train: {torch.unique(y)}\")\n",
        "    optimizer.zero_grad()\n",
        "    logits, loss, acc = run(model, x, y, LBL_SMOOTH=LBL_SMOOTH)\n",
        "\n",
        "    # l1_penalty = sum(p.abs().sum() for p in model.parameters())\n",
        "    # loss = loss + l1_lambda*l1_penalty\n",
        "\n",
        "    loss.backward()\n",
        "    # torch.nn.utils.clip_grad_norm_(mi_cnn.parameters(), 1)\n",
        "    optimizer.step()\n",
        "\n",
        "    # pred = torch.softmax(logits, dim=-1).cpu().detach().numpy()\n",
        "    pred = torch.softmax(logits, dim=-1)\n",
        "    pred = torch.argmax(pred, dim=-1).cpu().detach().numpy()\n",
        "    y = y.cpu().detach().numpy()\n",
        "    y_bin = label_binarize(y, classes=range(2))\n",
        "    if np.isnan(pred).sum() >0:\n",
        "      print(logits)\n",
        "    train_precision += average_precision_score(y_bin, pred, average=\"micro\")\n",
        "    train_loss += loss.item()\n",
        "    train_acc += acc.item()\n",
        "\n",
        "  train_precision /= n_evals\n",
        "  train_loss /= n_evals\n",
        "  train_acc /= n_evals\n",
        "\n",
        "  if i==0 or i%eval_inter==0 or i==n_iter-1:\n",
        "    model.eval()\n",
        "    test_loss = 0\n",
        "    test_acc = 0\n",
        "    test_precision = 0\n",
        "    with torch.no_grad():\n",
        "      for x, y in test_loader:\n",
        "        x, y = x.to(device), y.to(device)\n",
        "        # print(f\"Test: {torch.unique(y)}\")\n",
        "        logits, loss, acc = run(model, x, y, LBL_SMOOTH=LBL_SMOOTH)\n",
        "\n",
        "        # pred = torch.softmax(logits, dim=-1).cpu().detach().numpy()\n",
        "        pred = torch.softmax(logits, dim=-1)\n",
        "        pred = torch.argmax(pred, dim=-1).cpu().detach().numpy()\n",
        "        y = y.cpu().detach().numpy()\n",
        "        y_bin = label_binarize(y, classes=range(2))\n",
        "        test_precision += average_precision_score(y_bin, pred, average=\"micro\")\n",
        "        test_loss += loss.item()\n",
        "        test_acc += acc.item()\n",
        "\n",
        "    test_precision /= len(test_loader)\n",
        "    test_loss /= len(test_loader)\n",
        "    test_acc /= len(test_loader)\n",
        "\n",
        "    history[\"train_loss\"].append(train_loss)\n",
        "    history[\"train_acc\"].append(train_acc)\n",
        "    history[\"test_loss\"].append(test_loss)\n",
        "    history[\"test_acc\"].append(test_acc)\n",
        "    history[\"train_precision\"].append(train_precision)\n",
        "    history[\"test_precision\"].append(test_precision)\n",
        "    history[\"iter\"].append(i)\n",
        "    history[\"lr\"].append(lr_)\n",
        "\n",
        "    # print(f\"TrainAcc={train_acc:.2f}, TestAcc = {test_acc:.2f}, TrainLoss={train_loss:.4f}, TestLoss={test_loss:.4f}, lr, moment=({lr_:.2E},{momentum_:.2E})\")\n",
        "    chkpt.checkpoint(test_loss, model, f\"Checkpoint @{i+1}/{n_iter}: testLoss:{test_loss:.4f}, testAcc:{test_acc:.2f}\")\n",
        "\n",
        "    # lr_ = lr_scheduler.exponential_lr(test_loss)\n",
        "    # for param_group in optimizer.param_groups:\n",
        "    #   param_group[\"lr\"] = lr_\n",
        "\n",
        "    # lr_scheduler.step(test_loss)\n",
        "    # lr_ = lr_scheduler.get_last_lr()[0]\n",
        "\n",
        "    # momentum_ = moment_scheduler.exponential_lr(test_loss)\n",
        "    # for param_group in optimizer.param_groups:\n",
        "    #     param_group['momentum'] = momentum_"
      ]
    },
    {
      "cell_type": "code",
      "execution_count": 32,
      "metadata": {
        "colab": {
          "base_uri": "https://localhost:8080/"
        },
        "id": "fs9te43JApiw",
        "outputId": "a19d2c1c-7754-42b1-887b-660ce4caf72a"
      },
      "outputs": [
        {
          "output_type": "execute_result",
          "data": {
            "text/plain": [
              "((0.03567480024966327, 0.6947314143180847),\n",
              " (0.042837699456140396, 0.693081921339035))"
            ]
          },
          "metadata": {},
          "execution_count": 32
        }
      ],
      "source": [
        "(min(history[\"train_loss\"]), max(history[\"train_loss\"])), (min(history[\"test_loss\"]), max(history[\"test_loss\"]))"
      ]
    },
    {
      "cell_type": "code",
      "source": [
        "# @title Expt 1 Plot - View Performance Curve\n",
        "\n",
        "%matplotlib inline\n",
        "import matplotlib.pyplot as plt\n",
        "\n",
        "fig, ax = plt.subplots(1, 4, figsize=(16, 4))\n",
        "\n",
        "m_avg = lambda arr, perc: np.convolve(arr, np.ones(int(len(arr) * perc)) / int(len(arr) * perc), mode='valid')\n",
        "window = 0.3\n",
        "\n",
        "# Ensure history has data\n",
        "if \"iter\" in history and \"train_loss\" in history and \"test_loss\" in history:\n",
        "    if history[\"iter\"] and history[\"train_loss\"] and history[\"test_loss\"]:  # Check non-empty lists\n",
        "        # iter_ = m_avg(history[\"iter\"], window)\n",
        "        iter_ = history[\"iter\"]\n",
        "        # plt.figure()\n",
        "        # ax[0].plot(iter_, m_avg(history[\"train_loss\"], window), label=\"Train Loss\", color=(1, 0, 0, 0.7))\n",
        "        # ax[0].plot(iter_, m_avg(history[\"test_loss\"], window), label=\"Test Loss\", color=(0, 0, 1, 0.7))\n",
        "        ax[0].plot(iter_, history[\"train_loss\"], label=\"Train Loss\", color=(1, 0, 0, 0.4))\n",
        "        ax[0].plot(iter_, history[\"test_loss\"], label=\"Test Loss\", color=(0, 0, 1, 0.4))\n",
        "        ax[0].set_xlabel(\"Iterations\")\n",
        "        ax[0].set_ylabel(\"Loss\")\n",
        "        # ax[0].axhline(np.log(n_classes.item()), linestyle=\"dashed\", color=\"red\")\n",
        "        ax[0].legend()\n",
        "        ax[0].set_title(\"CrossEntropy Loss\")\n",
        "        ax[0].spines[\"top\"].set_visible(False)\n",
        "        ax[0].spines[\"right\"].set_visible(False)\n",
        "        # ax[0].axhline(0.5, color=(1,0,0,0.8), linestyle=\"--\")\n",
        "        # ax[0].axhline(0.2, color=(0,0,0,0.8), linestyle=\"--\")\n",
        "        ax[0].grid()\n",
        "        # plt.show()\n",
        "\n",
        "        ax[1].plot(iter_, history[\"train_acc\"], color=(1, 0, 0, 0.4), label=\"Train acc\")\n",
        "        ax[1].plot(iter_, history[\"test_acc\"], color=(0, 0, 1, 0.4), label=\"Test acc\")\n",
        "        ax[1].set_xlabel(\"Iterations\")\n",
        "        ax[1].set_ylabel(\"Accuracy\")\n",
        "        # ax[1].axhline(0.8, linestyle=\"dashed\", color=\"red\")\n",
        "        ax[1].legend()\n",
        "        ax[1].set_title(\"Accuracy\")\n",
        "        ax[1].spines[\"top\"].set_visible(False)\n",
        "        ax[1].spines[\"right\"].set_visible(False)\n",
        "        ax[1].grid()\n",
        "\n",
        "        ax[2].plot(iter_, history[\"train_precision\"], color=(1, 0, 0, 0.4), label=\"Train precision\")\n",
        "        ax[2].plot(iter_, history[\"test_precision\"], color=(0, 0, 1, 0.4), label=\"Test precision\")\n",
        "        ax[2].legend()\n",
        "        ax[2].set_title(\"mAP\")\n",
        "        ax[2].spines[\"top\"].set_visible(False)\n",
        "        ax[2].spines[\"right\"].set_visible(False)\n",
        "        ax[2].grid()\n",
        "\n",
        "        ax[3].plot(iter_, history[\"lr\"], label=\"Learning Rate\")\n",
        "        ax[3].set_title(\"Learning Rate\")\n",
        "        ax[3].set_xlabel(\"Iterations\")\n",
        "        ax[3].set_ylabel(\"Learning Rate\")\n",
        "        ax[3].spines[\"top\"].set_visible(False)\n",
        "        ax[3].spines[\"right\"].set_visible(False)\n",
        "        ax[3].grid()\n",
        "    else:\n",
        "        print(\"History data is empty!\")\n",
        "else:\n",
        "    print(\"History keys missing!\")\n",
        "\n",
        "fig.tight_layout()\n",
        "\n",
        "fig.tight_layout()"
      ],
      "metadata": {
        "cellView": "form",
        "colab": {
          "base_uri": "https://localhost:8080/",
          "height": 311
        },
        "id": "MH3j_g0NKQWt",
        "outputId": "43fbcb4a-051d-497c-ec65-d11bfa562de6"
      },
      "execution_count": 33,
      "outputs": [
        {
          "output_type": "display_data",
          "data": {
            "text/plain": [
              "<Figure size 1600x400 with 4 Axes>"
            ],
            "image/png": "[encoded data removed]"
          },
          "metadata": {}
        }
      ]
    },
    {
      "cell_type": "code",
      "source": [
        "# @title Control Expt Plot - View Performance Curve\n",
        "\n",
        "%matplotlib inline\n",
        "import matplotlib.pyplot as plt\n",
        "\n",
        "fig, ax = plt.subplots(1, 4, figsize=(16, 4))\n",
        "\n",
        "m_avg = lambda arr, perc: np.convolve(arr, np.ones(int(len(arr) * perc)) / int(len(arr) * perc), mode='valid')\n",
        "window = 0.3\n",
        "\n",
        "# Ensure history has data\n",
        "if \"iter\" in history and \"train_loss\" in history and \"test_loss\" in history:\n",
        "    if history[\"iter\"] and history[\"train_loss\"] and history[\"test_loss\"]:  # Check non-empty lists\n",
        "        # iter_ = m_avg(history[\"iter\"], window)\n",
        "        iter_ = history[\"iter\"]\n",
        "        # plt.figure()\n",
        "        # ax[0].plot(iter_, m_avg(history[\"train_loss\"], window), label=\"Train Loss\", color=(1, 0, 0, 0.7))\n",
        "        # ax[0].plot(iter_, m_avg(history[\"test_loss\"], window), label=\"Test Loss\", color=(0, 0, 1, 0.7))\n",
        "        ax[0].plot(iter_, history[\"train_loss\"], label=\"Train Loss\", color=(1, 0, 0, 0.4))\n",
        "        ax[0].plot(iter_, history[\"test_loss\"], label=\"Test Loss\", color=(0, 0, 1, 0.4))\n",
        "        ax[0].set_xlabel(\"Iterations\")\n",
        "        ax[0].set_ylabel(\"Loss\")\n",
        "        # ax[0].axhline(np.log(n_classes.item()), linestyle=\"dashed\", color=\"red\")\n",
        "        ax[0].legend()\n",
        "        ax[0].set_title(\"CrossEntropy Loss\")\n",
        "        ax[0].spines[\"top\"].set_visible(False)\n",
        "        ax[0].spines[\"right\"].set_visible(False)\n",
        "        # ax[0].axhline(0.5, color=(1,0,0,0.8), linestyle=\"--\")\n",
        "        # ax[0].axhline(0.2, color=(0,0,0,0.8), linestyle=\"--\")\n",
        "        ax[0].grid()\n",
        "        # plt.show()\n",
        "\n",
        "        ax[1].plot(iter_, history[\"train_acc\"], color=(1, 0, 0, 0.4), label=\"Train acc\")\n",
        "        ax[1].plot(iter_, history[\"test_acc\"], color=(0, 0, 1, 0.4), label=\"Test acc\")\n",
        "        ax[1].set_xlabel(\"Iterations\")\n",
        "        ax[1].set_ylabel(\"Accuracy\")\n",
        "        # ax[1].axhline(0.8, linestyle=\"dashed\", color=\"red\")\n",
        "        ax[1].legend()\n",
        "        ax[1].set_title(\"Accuracy\")\n",
        "        ax[1].spines[\"top\"].set_visible(False)\n",
        "        ax[1].spines[\"right\"].set_visible(False)\n",
        "        ax[1].grid()\n",
        "\n",
        "        ax[2].plot(iter_, history[\"train_precision\"], color=(1, 0, 0, 0.4), label=\"Train precision\")\n",
        "        ax[2].plot(iter_, history[\"test_precision\"], color=(0, 0, 1, 0.4), label=\"Test precision\")\n",
        "        ax[2].legend()\n",
        "        ax[2].set_title(\"mAP\")\n",
        "        ax[2].spines[\"top\"].set_visible(False)\n",
        "        ax[2].spines[\"right\"].set_visible(False)\n",
        "        ax[2].grid()\n",
        "\n",
        "        ax[3].plot(iter_, history[\"lr\"], label=\"Learning Rate\")\n",
        "        ax[3].set_title(\"Learning Rate\")\n",
        "        ax[3].set_xlabel(\"Iterations\")\n",
        "        ax[3].set_ylabel(\"Learning Rate\")\n",
        "        ax[3].spines[\"top\"].set_visible(False)\n",
        "        ax[3].spines[\"right\"].set_visible(False)\n",
        "        ax[3].grid()\n",
        "    else:\n",
        "        print(\"History data is empty!\")\n",
        "else:\n",
        "    print(\"History keys missing!\")\n",
        "\n",
        "fig.tight_layout()\n",
        "\n",
        "fig.tight_layout()"
      ],
      "metadata": {
        "colab": {
          "base_uri": "https://localhost:8080/",
          "height": 311
        },
        "cellView": "form",
        "id": "SHTwtsp2le-O",
        "outputId": "a921b676-8e8f-41fd-c8c3-89b095117699"
      },
      "execution_count": 38,
      "outputs": [
        {
          "output_type": "display_data",
          "data": {
            "text/plain": [
              "<Figure size 1600x400 with 4 Axes>"
            ],
            "image/png": "[encoded data removed]"
          },
          "metadata": {}
        }
      ]
    },
    {
      "cell_type": "code",
      "execution_count": 34,
      "metadata": {
        "colab": {
          "base_uri": "https://localhost:8080/",
          "height": 491
        },
        "id": "o6tINEY2aXZ9",
        "outputId": "bed9ea29-7e0d-483e-a4c6-9ecad35ee1e5",
        "cellView": "form"
      },
      "outputs": [
        {
          "output_type": "execute_result",
          "data": {
            "text/plain": [
              "Text(0.5, 1.0, 'Train Set Confusion Matrix \\n (Augmented Samples Inlcuded)')"
            ]
          },
          "metadata": {},
          "execution_count": 34
        },
        {
          "output_type": "display_data",
          "data": {
            "text/plain": [
              "<Figure size 640x480 with 2 Axes>"
            ],
            "image/png": "[encoded data removed]"
          },
          "metadata": {}
        }
      ],
      "source": [
        "# @title Train-Set Confusion Matrix\n",
        "\n",
        "SEED = 42\n",
        "torch.manual_seed(SEED)\n",
        "np.random.seed(SEED)\n",
        "random.seed(SEED)\n",
        "torch.backends.cudnn.deterministic = True\n",
        "torch.backends.cudnn.benchmark = False\n",
        "\n",
        "model.load_state_dict(chkpt.best_state)\n",
        "model.eval()\n",
        "model.to(device)\n",
        "\n",
        "all_preds = []\n",
        "all_labels = []\n",
        "\n",
        "with torch.no_grad():\n",
        "    for x, y in train_loader:\n",
        "        x = x.to(device)\n",
        "        y = y.to(device)\n",
        "        out = model(x)\n",
        "        probs = F.softmax(out, dim=1)\n",
        "        preds = torch.argmax(probs, dim=1)\n",
        "        all_preds.append(preds.cpu())\n",
        "        all_labels.append(y.cpu())\n",
        "\n",
        "all_preds = torch.cat(all_preds)\n",
        "all_labels = torch.cat(all_labels)\n",
        "\n",
        "from sklearn.metrics import confusion_matrix\n",
        "import seaborn as sns\n",
        "import numpy as np\n",
        "\n",
        "cm = confusion_matrix(all_labels, all_preds)\n",
        "cm = cm.astype(int)\n",
        "# cm = cm / cm.sum(axis=1, keepdims=True)  # normalize by row\n",
        "sns.heatmap(cm, annot=True, fmt=\"\", yticklabels=[\"Left Imagery\", \"Right Imagery\"], xticklabels=[\"Left Imagery\", \"Right Imagery\"])\n",
        "plt.title(\"Train Set Confusion Matrix \\n (Augmented Samples Inlcuded)\")"
      ]
    },
    {
      "cell_type": "code",
      "execution_count": 35,
      "metadata": {
        "colab": {
          "base_uri": "https://localhost:8080/",
          "height": 491
        },
        "id": "EcjfUxUsl3YO",
        "outputId": "5ceb9e36-627d-4bd7-c521-2adaf1f1edc3",
        "cellView": "form"
      },
      "outputs": [
        {
          "output_type": "execute_result",
          "data": {
            "text/plain": [
              "Text(0.5, 1.0, 'Test Set Confusion Matrix \\n (Test Set Does not Have Augmented Samples)')"
            ]
          },
          "metadata": {},
          "execution_count": 35
        },
        {
          "output_type": "display_data",
          "data": {
            "text/plain": [
              "<Figure size 640x480 with 2 Axes>"
            ],
            "image/png": "[encoded data removed]"
          },
          "metadata": {}
        }
      ],
      "source": [
        "# @title Test-Set Confusion Matrix\n",
        "\n",
        "SEED = 42\n",
        "torch.manual_seed(SEED)\n",
        "np.random.seed(SEED)\n",
        "random.seed(SEED)\n",
        "torch.backends.cudnn.deterministic = True\n",
        "torch.backends.cudnn.benchmark = False\n",
        "\n",
        "model.load_state_dict(chkpt.best_state)\n",
        "model.eval()\n",
        "x, y = test.X, test.y\n",
        "x = x.to(device)\n",
        "\n",
        "with torch.no_grad():\n",
        "  preds = model(x)\n",
        "  preds = F.softmax(preds, dim=1).cpu().detach()\n",
        "  preds = torch.argmax(preds, dim=-1)\n",
        "  # print(\"Predictions:\", preds.argmax(dim=-1))\n",
        "  # print(\"Ground Truth:\", test.y)\n",
        "\n",
        "from sklearn.metrics import confusion_matrix\n",
        "import seaborn as sns\n",
        "\n",
        "cm = confusion_matrix(y, preds.cpu().numpy())\n",
        "cm = cm.astype(int)\n",
        "# cm = cm / cm.sum(axis=1)\n",
        "sns.heatmap(cm, annot=True, fmt=\"\", yticklabels=[\"Left Imagery\", \"Right Imagery\"], xticklabels=[\"Left Imagery\", \"Right Imagery\"])\n",
        "\n",
        "plt.title(\"Test Set Confusion Matrix \\n (Test Set Does not Have Augmented Samples)\")"
      ]
    },
    {
      "cell_type": "code",
      "execution_count": 36,
      "metadata": {
        "colab": {
          "base_uri": "https://localhost:8080/",
          "height": 762
        },
        "id": "b2W_K-kEEfLZ",
        "outputId": "c0291430-56e7-4296-db31-0c4cb94c7c16",
        "cellView": "form"
      },
      "outputs": [
        {
          "output_type": "stream",
          "name": "stdout",
          "text": [
            "in_btn.weight\n",
            "in_btn.weight (np.float32(0.980687), np.float32(1.0124305)) gradient (np.float32(-0.0009612142), np.float32(0.0010812964))\n",
            "conv11.weight\n",
            "conv11.weight (np.float32(-0.09858385), np.float32(0.101343475)) gradient (np.float32(-0.0010575328), np.float32(0.0015599628))\n",
            "btn11.weight\n",
            "btn11.weight (np.float32(0.88484335), np.float32(1.1254798)) gradient (np.float32(-0.00071054645), np.float32(0.0041496884))\n",
            "conv12.weight\n",
            "conv12.weight (np.float32(-0.93497205), np.float32(0.985867)) gradient (np.float32(0.0044483263), np.float32(0.0055254744))\n",
            "btn12.weight\n",
            "btn12.weight (np.float32(1.2681191), np.float32(1.2681191)) gradient (np.float32(-0.0027912788), np.float32(-0.0027912788))\n",
            "conv13.weight\n",
            "conv13.weight (np.float32(-1.3642856), np.float32(0.9673117)) gradient (np.float32(-0.00011646695), np.float32(-3.7370348e-05))\n",
            "btn13.weight\n",
            "btn13.weight (np.float32(1.1901752), np.float32(1.1901752)) gradient (np.float32(-0.00015873836), np.float32(-0.00015873836))\n"
          ]
        },
        {
          "output_type": "display_data",
          "data": {
            "text/plain": [
              "<Figure size 1200x500 with 2 Axes>"
            ],
            "image/png": "[encoded data removed]"
          },
          "metadata": {}
        }
      ],
      "source": [
        "# @title Convolution Layers weights and gradients\n",
        "\n",
        "plt.figure(figsize=(12, 5))\n",
        "\n",
        "    # Create two subplots\n",
        "ax1 = plt.subplot(1, 2, 1)  # For weights\n",
        "ax2 = plt.subplot(1, 2, 2)  # For gradients\n",
        "\n",
        "# Define colors for layers\n",
        "colors = ['b', 'g', 'r', 'c', 'm', 'y', 'k']\n",
        "\n",
        "for i, (name, param) in enumerate(model.named_parameters()):\n",
        "\n",
        "  # if name == \"fc_final.weight\":\n",
        "  #   continue\n",
        "\n",
        "  if 'weight' in name:\n",
        "      color = colors[i % len(colors)]  # Cycle through colors\n",
        "\n",
        "      if (\"batch\" in name):\n",
        "        continue\n",
        "      if (\"fc\" in name):\n",
        "        continue\n",
        "      print(name)\n",
        "\n",
        "      # Plot weight distribution\n",
        "      ax1.hist(param.data.cpu().numpy().flatten(), bins=50, alpha=0.5, label=name, color=color)\n",
        "\n",
        "      # Plot gradient distribution (if available)\n",
        "      if param.grad is not None:\n",
        "          ax2.hist(param.grad.cpu().numpy().flatten(), bins=50, alpha=0.5, label=name, color=color)\n",
        "      print(\n",
        "          name,\n",
        "          (param.data.cpu().numpy().flatten().min(), param.data.cpu().numpy().flatten().max()), \"gradient\",\n",
        "          (param.grad.cpu().numpy().flatten().min(), param.grad.cpu().numpy().flatten().max())\n",
        "      )\n",
        "\n",
        "# Configure weight subplot\n",
        "ax1.set_title('Weight Distributions')\n",
        "ax1.set_xlabel('Weight Value')\n",
        "ax1.set_ylabel('Frequency')\n",
        "# ax1.legend()\n",
        "\n",
        "# Configure gradient subplot\n",
        "ax2.set_title('Gradient Distributions')\n",
        "ax2.set_xlabel('Gradient Value')\n",
        "ax2.set_ylabel('Frequency')\n",
        "ax2.legend(loc=\"upper right\")\n",
        "\n",
        "plt.tight_layout()\n",
        "plt.show()"
      ]
    },
    {
      "cell_type": "code",
      "execution_count": 37,
      "metadata": {
        "cellView": "form",
        "colab": {
          "base_uri": "https://localhost:8080/",
          "height": 562
        },
        "id": "9irIVzt-ceZx",
        "outputId": "3cf47450-d98a-4f1e-9d27-038e2cd33fc0"
      },
      "outputs": [
        {
          "output_type": "stream",
          "name": "stdout",
          "text": [
            "fc12.weight (np.float32(-0.044180617), np.float32(0.06350314)) gradient (np.float32(-0.0014197577), np.float32(0.00016498966))\n",
            "fc13.weight (np.float32(-0.04215182), np.float32(0.04732577)) gradient (np.float32(-0.00013055622), np.float32(0.000101940204))\n",
            "fc.weight (np.float32(-0.10519987), np.float32(0.107255556)) gradient (np.float32(-0.0027918916), np.float32(0.0027918906))\n"
          ]
        },
        {
          "output_type": "display_data",
          "data": {
            "text/plain": [
              "<Figure size 1200x500 with 2 Axes>"
            ],
            "image/png": "[encoded data removed]"
          },
          "metadata": {}
        }
      ],
      "source": [
        "# @title Linear Layers weights and gradients\n",
        "\n",
        "plt.figure(figsize=(12, 5))\n",
        "\n",
        "    # Create two subplots\n",
        "ax1 = plt.subplot(1, 2, 1)  # For weights\n",
        "ax2 = plt.subplot(1, 2, 2)  # For gradients\n",
        "\n",
        "# Define colors for layers\n",
        "colors = ['b', 'g', 'r', 'c', 'm', 'y', 'k']\n",
        "\n",
        "for i, (name, param) in enumerate(model.named_parameters()):\n",
        "\n",
        "  # if name == \"fc_final.weight\":\n",
        "  #   continue\n",
        "\n",
        "  if 'weight' in name:\n",
        "      color = colors[i % len(colors)]  # Cycle through colors\n",
        "\n",
        "      if (\"batch\" in name):\n",
        "        continue\n",
        "      if (\"fc\" not in name):\n",
        "        continue\n",
        "\n",
        "      # Plot weight distribution\n",
        "      ax1.hist(param.data.cpu().numpy().flatten(), bins=50, alpha=0.5, label=name, color=color)\n",
        "\n",
        "      # Plot gradient distribution (if available)\n",
        "      if param.grad is not None:\n",
        "          ax2.hist(param.grad.cpu().numpy().flatten(), bins=50, alpha=0.5, label=name, color=color)\n",
        "      print(\n",
        "          name,\n",
        "          (param.data.cpu().numpy().flatten().min(), param.data.cpu().numpy().flatten().max()), \"gradient\",\n",
        "          (param.grad.cpu().numpy().flatten().min(), param.grad.cpu().numpy().flatten().max())\n",
        "      )\n",
        "\n",
        "# Configure weight subplot\n",
        "ax1.set_title('Weight Distributions')\n",
        "ax1.set_xlabel('Weight Value')\n",
        "ax1.set_ylabel('Frequency')\n",
        "# ax1.legend()\n",
        "\n",
        "# Configure gradient subplot\n",
        "ax2.set_title('Gradient Distributions')\n",
        "ax2.set_xlabel('Gradient Value')\n",
        "ax2.set_ylabel('Frequency')\n",
        "ax2.legend(loc=\"upper right\")\n",
        "\n",
        "plt.tight_layout()\n",
        "plt.show()"
      ]
    },
    {
      "cell_type": "markdown",
      "source": [
        "## Semantic Representation Learning"
      ],
      "metadata": {
        "id": "McWuiQUw7qMV"
      }
    },
    {
      "cell_type": "markdown",
      "source": [
        "### Contrastive Alignment"
      ],
      "metadata": {
        "id": "vrW8bhf7C19l"
      }
    },
    {
      "cell_type": "code",
      "source": [
        "# @title Encoder\n",
        "\n",
        "def nt_xent_loss(logits, labels, temperature=0.5):\n",
        "  eps = 1E-8\n",
        "\n",
        "  labels = labels.view(-1, 1)\n",
        "  target = torch.eq(labels, labels.T).to(torch.float32).to(device)\n",
        "  target.fill_diagonal_(0)\n",
        "\n",
        "  B = logits.size(0)\n",
        "  # logits = logits.reshape(B, -1)\n",
        "  logits = F.normalize(logits, dim=1)\n",
        "  sim = (logits @ logits.T)\n",
        "  sim[torch.eye(B).bool()] = 0\n",
        "\n",
        "  loss = F.binary_cross_entropy_with_logits(sim/temperature, target, reduction=\"mean\")\n",
        "  return loss\n",
        "\n",
        "class SPEC_Encoder(nn.Module):\n",
        "  def __init__(self, n_freqs=45, n_times=26, n_channels=6, n_classes=6, NGV_SLOPE=0.1, temperature=2):\n",
        "    super(SPEC_Encoder, self).__init__()\n",
        "    self.height = n_freqs\n",
        "    self.width = n_times\n",
        "    self.ch = n_channels\n",
        "    self.n_classes = n_classes\n",
        "    self.NGV_SLOPE = NGV_SLOPE\n",
        "    self.temperature = temperature\n",
        "\n",
        "    self.resnet = models.resnet18(pretrained=False)\n",
        "    self.resnet.conv1 = nn.Conv2d(self.ch*3, 64, kernel_size=(7, 7), stride=(2, 2), padding=(3, 3), bias=False)\n",
        "\n",
        "    self.conv1 = nn.Conv3d(3, self.n_classes, (2, 8, 8), stride=(1, 4, 4), groups=1)\n",
        "    self.pool1 = nn.AdaptiveMaxPool3d((5, 40, 40))\n",
        "\n",
        "    self.conv2 = nn.Conv3d(self.n_classes, self.n_classes, (2, 4, 4), stride=(1, 2, 2), groups=self.n_classes)\n",
        "    self.pool2 = nn.AdaptiveMaxPool3d((3, 16, 16))\n",
        "\n",
        "    self.proj = nn.Linear(self.n_classes*3*16*16, 625)\n",
        "\n",
        "  def forward(self, x, y=None, probe=False):\n",
        "    B, _, _, _, _ = x.size()\n",
        "    x = rearrange(x, 'b e h w c -> b c e h w')\n",
        "    x = x/255\n",
        "    # x = x.unsqueeze(1)\n",
        "    # x = self.resnet(x)\n",
        "\n",
        "    x = F.dropout(x, 0.2)\n",
        "    x = self.conv1(x)\n",
        "    x = self.pool1(x)\n",
        "    x = F.elu(x)\n",
        "\n",
        "    x = self.conv2(x)\n",
        "    x = self.pool2(x)\n",
        "    x = F.elu(x)\n",
        "\n",
        "    B, K, C, H, W = x.size()\n",
        "    x = x.reshape(B, -1)\n",
        "    x = self.proj(x)\n",
        "\n",
        "    if probe==True:\n",
        "      return x.reshape(B, -1)\n",
        "    if y is not None:\n",
        "      loss = nt_xent_loss(x, y, temperature=self.temperature)\n",
        "      return x, loss\n",
        "    return x"
      ],
      "metadata": {
        "id": "KsM3hwb0-tPE",
        "cellView": "form"
      },
      "execution_count": null,
      "outputs": []
    },
    {
      "cell_type": "code",
      "source": [
        "# @title Train\n",
        "\n",
        "from sklearn.metrics import average_precision_score\n",
        "from sklearn.preprocessing import label_binarize\n",
        "# from torchmetrics.classification import MulticlassAveragePrecision\n",
        "# mAP = MulticlassAveragePrecision(num_classes=6, average=\"macro\")\n",
        "\n",
        "device = \"cuda\" if torch.cuda.is_available() else \"cpu\"\n",
        "\n",
        "torch.cuda.empty_cache()\n",
        "random.seed(42)\n",
        "np.random.seed(42)\n",
        "torch.manual_seed(42)\n",
        "torch.cuda.manual_seed_all(42)\n",
        "# torch.use_deterministic_algorithms(False)\n",
        "torch.backends.cudnn.deterministic = True\n",
        "torch.backends.cudnn.benchmark = False\n",
        "\n",
        "mi_encoder = SPEC_Encoder(n_freqs=45, n_times=22, n_channels=6, n_classes=3, NGV_SLOPE=0.2, temperature=10).to(device)\n",
        "# mi_encoder.apply(init_weights)\n",
        "\n",
        "n_iter = 700\n",
        "eval_inter = 10\n",
        "n_evals = 6\n",
        "\n",
        "history = {\n",
        "    \"train_loss\": [],\n",
        "    \"test_loss\": [],\n",
        "    \"train_acc\": [],\n",
        "    \"test_acc\": [],\n",
        "    \"train_precision\": [],\n",
        "    \"test_precision\": [],\n",
        "    \"iter\": [],\n",
        "    \"lr\": []\n",
        "}\n",
        "\n",
        "lr_ = 1E-2\n",
        "momentum_ = 0.9\n",
        "betas_ = (0.9, 0.99)\n",
        "# optimizer = torch.optim.SGD(mi_encoder.parameters(), lr=lr_, momentum=momentum_, weight_decay=0.0)\n",
        "optimizer = torch.optim.Adam(mi_encoder.parameters(), lr=lr_, betas=betas_, weight_decay=0.0)\n",
        "lr_scheduler = LRScheduler(lr_, patience=4, factor=0.3, margin=1E-4, n_evals=10)\n",
        "moment_scheduler = LRScheduler(momentum_, patience=2, factor=0.3, margin=0.01, n_evals=10)\n",
        "\n",
        "chkpt = CheckpointModel(0)\n",
        "\n",
        "for i in tqdm(range(n_iter), desc=\"Training\", total=n_iter):\n",
        "\n",
        "  mi_encoder.train()\n",
        "  train_loss = 0\n",
        "  for j, (x, y) in enumerate(train_loader):\n",
        "    if j>= n_evals:\n",
        "      break\n",
        "    x, y = x.to(device), y.to(device)\n",
        "    optimizer.zero_grad()\n",
        "    logits, loss = mi_encoder(x, y)\n",
        "    loss.backward()\n",
        "    # torch.nn.utils.clip_grad_norm_(mi_encoder.parameters(), 1)\n",
        "    optimizer.step()\n",
        "\n",
        "    pred = torch.softmax(logits, dim=-1).cpu().detach().numpy()\n",
        "    # pred = torch.softmax(logits, dim=-1)\n",
        "    # pred = torch.argmax(pred, dim=-1).cpu().detach().numpy()\n",
        "    y = y.cpu().detach().numpy()\n",
        "    y_bin = label_binarize(y, classes=range(3))\n",
        "    if np.isnan(pred).sum() >0:\n",
        "      print(logits)\n",
        "    train_loss += loss.item()\n",
        "  train_loss /= n_evals\n",
        "\n",
        "  if i==0 or i%eval_inter==0 or i==n_iter-1:\n",
        "    mi_encoder.eval()\n",
        "    test_loss = 0\n",
        "    with torch.no_grad():\n",
        "      for x, y in test_loader:\n",
        "        x, y = x.to(device), y.to(device)\n",
        "        logits, loss = mi_encoder(x, y)\n",
        "        test_loss += loss.item()\n",
        "    test_loss /= len(test_loader)\n",
        "\n",
        "    history[\"train_loss\"].append(train_loss)\n",
        "    history[\"test_loss\"].append(test_loss)\n",
        "    history[\"iter\"].append(i)\n",
        "    history[\"lr\"].append(lr_)\n",
        "\n",
        "    print(f\"TrainLoss={train_loss:.4f}, TestLoss={test_loss:.4f}, lr, moment=({lr_:.2E},{momentum_:.2E})\")\n",
        "    chkpt.checkpoint(test_loss, mi_encoder, \"Checkpoint\")\n",
        "\n",
        "    lr_ = lr_scheduler.exponential_lr(test_loss)\n",
        "    # momentum_ = moment_scheduler.exponential_lr(test_loss)\n",
        "    for param_group in optimizer.param_groups:\n",
        "      param_group[\"lr\"] = lr_\n",
        "    # for param_group in optimizer.param_groups:\n",
        "    #     param_group['momentum'] = momentum_"
      ],
      "metadata": {
        "colab": {
          "base_uri": "https://localhost:8080/",
          "height": 716
        },
        "id": "OpiJHwpl1gIR",
        "outputId": "ca6c8d30-49fe-44b0-9d8d-08f8944152b8",
        "cellView": "form"
      },
      "execution_count": null,
      "outputs": [
        {
          "output_type": "stream",
          "name": "stderr",
          "text": [
            "Training:   0%|          | 1/700 [00:02<25:47,  2.21s/it]"
          ]
        },
        {
          "output_type": "stream",
          "name": "stdout",
          "text": [
            "TrainLoss=0.7070, TestLoss=0.7035, lr, moment=(1.00E-02,9.00E-01)\n",
            "Checkpoint\n"
          ]
        },
        {
          "output_type": "stream",
          "name": "stderr",
          "text": [
            "Training:   2%|▏         | 11/700 [00:21<24:43,  2.15s/it]"
          ]
        },
        {
          "output_type": "stream",
          "name": "stdout",
          "text": [
            "TrainLoss=0.6983, TestLoss=0.6979, lr, moment=(1.00E-02,9.00E-01)\n",
            "Checkpoint\n"
          ]
        },
        {
          "output_type": "stream",
          "name": "stderr",
          "text": [
            "Training:   3%|▎         | 21/700 [00:40<22:08,  1.96s/it]"
          ]
        },
        {
          "output_type": "stream",
          "name": "stdout",
          "text": [
            "TrainLoss=0.6943, TestLoss=0.6940, lr, moment=(1.00E-02,9.00E-01)\n",
            "Checkpoint\n"
          ]
        },
        {
          "output_type": "stream",
          "name": "stderr",
          "text": [
            "Training:   4%|▍         | 31/700 [01:00<24:13,  2.17s/it]"
          ]
        },
        {
          "output_type": "stream",
          "name": "stdout",
          "text": [
            "TrainLoss=0.6945, TestLoss=0.6946, lr, moment=(1.00E-02,9.00E-01)\n"
          ]
        },
        {
          "output_type": "stream",
          "name": "stderr",
          "text": [
            "Training:   6%|▌         | 41/700 [01:18<21:39,  1.97s/it]"
          ]
        },
        {
          "output_type": "stream",
          "name": "stdout",
          "text": [
            "TrainLoss=0.6940, TestLoss=0.6942, lr, moment=(1.00E-02,9.00E-01)\n"
          ]
        },
        {
          "output_type": "stream",
          "name": "stderr",
          "text": [
            "Training:   7%|▋         | 51/700 [01:38<22:31,  2.08s/it]"
          ]
        },
        {
          "output_type": "stream",
          "name": "stdout",
          "text": [
            "TrainLoss=0.6936, TestLoss=0.6938, lr, moment=(1.00E-02,9.00E-01)\n",
            "Checkpoint\n"
          ]
        },
        {
          "output_type": "stream",
          "name": "stderr",
          "text": [
            "Training:   9%|▊         | 61/700 [01:59<23:36,  2.22s/it]"
          ]
        },
        {
          "output_type": "stream",
          "name": "stdout",
          "text": [
            "TrainLoss=0.6934, TestLoss=0.6937, lr, moment=(1.00E-02,9.00E-01)\n",
            "Checkpoint\n"
          ]
        },
        {
          "output_type": "stream",
          "name": "stderr",
          "text": [
            "Training:  10%|█         | 71/700 [02:18<22:15,  2.12s/it]"
          ]
        },
        {
          "output_type": "stream",
          "name": "stdout",
          "text": [
            "TrainLoss=0.6940, TestLoss=0.6937, lr, moment=(1.00E-02,9.00E-01)\n"
          ]
        },
        {
          "output_type": "stream",
          "name": "stderr",
          "text": [
            "Training:  12%|█▏        | 81/700 [02:38<21:35,  2.09s/it]"
          ]
        },
        {
          "output_type": "stream",
          "name": "stdout",
          "text": [
            "TrainLoss=0.6939, TestLoss=0.6936, lr, moment=(1.00E-02,9.00E-01)\n",
            "Checkpoint\n"
          ]
        },
        {
          "output_type": "stream",
          "name": "stderr",
          "text": [
            "Training:  13%|█▎        | 91/700 [03:00<23:29,  2.32s/it]"
          ]
        },
        {
          "output_type": "stream",
          "name": "stdout",
          "text": [
            "TrainLoss=0.6937, TestLoss=0.6936, lr, moment=(1.00E-02,9.00E-01)\n",
            "Checkpoint\n"
          ]
        },
        {
          "output_type": "stream",
          "name": "stderr",
          "text": [
            "Training:  14%|█▍        | 101/700 [03:18<19:32,  1.96s/it]"
          ]
        },
        {
          "output_type": "stream",
          "name": "stdout",
          "text": [
            "TrainLoss=0.6935, TestLoss=0.6940, lr, moment=(1.00E-02,9.00E-01)\n"
          ]
        },
        {
          "output_type": "stream",
          "name": "stderr",
          "text": [
            "Training:  16%|█▌        | 111/700 [03:38<20:47,  2.12s/it]"
          ]
        },
        {
          "output_type": "stream",
          "name": "stdout",
          "text": [
            "TrainLoss=0.6938, TestLoss=0.6938, lr, moment=(1.00E-02,9.00E-01)\n"
          ]
        },
        {
          "output_type": "stream",
          "name": "stderr",
          "text": [
            "Training:  17%|█▋        | 121/700 [03:57<19:19,  2.00s/it]"
          ]
        },
        {
          "output_type": "stream",
          "name": "stdout",
          "text": [
            "TrainLoss=0.6942, TestLoss=0.6934, lr, moment=(1.00E-02,9.00E-01)\n",
            "Checkpoint\n"
          ]
        },
        {
          "output_type": "stream",
          "name": "stderr",
          "text": [
            "Training:  19%|█▊        | 131/700 [04:17<19:51,  2.09s/it]"
          ]
        },
        {
          "output_type": "stream",
          "name": "stdout",
          "text": [
            "TrainLoss=0.6936, TestLoss=0.6934, lr, moment=(1.00E-02,9.00E-01)\n",
            "Checkpoint\n"
          ]
        },
        {
          "output_type": "stream",
          "name": "stderr",
          "text": [
            "Training:  20%|██        | 141/700 [04:36<18:50,  2.02s/it]"
          ]
        },
        {
          "output_type": "stream",
          "name": "stdout",
          "text": [
            "TrainLoss=0.6935, TestLoss=0.6934, lr, moment=(1.00E-02,9.00E-01)\n"
          ]
        },
        {
          "output_type": "stream",
          "name": "stderr",
          "text": [
            "Training:  22%|██▏       | 151/700 [04:55<19:26,  2.12s/it]"
          ]
        },
        {
          "output_type": "stream",
          "name": "stdout",
          "text": [
            "TrainLoss=0.6937, TestLoss=0.6938, lr, moment=(1.00E-02,9.00E-01)\n"
          ]
        },
        {
          "output_type": "stream",
          "name": "stderr",
          "text": [
            "Training:  23%|██▎       | 161/700 [05:16<20:06,  2.24s/it]"
          ]
        },
        {
          "output_type": "stream",
          "name": "stdout",
          "text": [
            "TrainLoss=0.6935, TestLoss=0.6931, lr, moment=(1.00E-02,9.00E-01)\n",
            "Checkpoint\n"
          ]
        },
        {
          "output_type": "stream",
          "name": "stderr",
          "text": [
            "Training:  23%|██▎       | 164/700 [05:22<17:35,  1.97s/it]\n"
          ]
        },
        {
          "output_type": "error",
          "ename": "KeyboardInterrupt",
          "evalue": "",
          "traceback": [
            "\u001b[0;31m---------------------------------------------------------------------------\u001b[0m",
            "\u001b[0;31mKeyboardInterrupt\u001b[0m                         Traceback (most recent call last)",
            "\u001b[0;32m<ipython-input-26-8f899a9a0106>\u001b[0m in \u001b[0;36m<cell line: 0>\u001b[0;34m()\u001b[0m\n\u001b[1;32m     52\u001b[0m     \u001b[0;32mif\u001b[0m \u001b[0mj\u001b[0m\u001b[0;34m>=\u001b[0m \u001b[0mn_evals\u001b[0m\u001b[0;34m:\u001b[0m\u001b[0;34m\u001b[0m\u001b[0;34m\u001b[0m\u001b[0m\n\u001b[1;32m     53\u001b[0m       \u001b[0;32mbreak\u001b[0m\u001b[0;34m\u001b[0m\u001b[0;34m\u001b[0m\u001b[0m\n\u001b[0;32m---> 54\u001b[0;31m     \u001b[0mx\u001b[0m\u001b[0;34m,\u001b[0m \u001b[0my\u001b[0m \u001b[0;34m=\u001b[0m \u001b[0mx\u001b[0m\u001b[0;34m.\u001b[0m\u001b[0mto\u001b[0m\u001b[0;34m(\u001b[0m\u001b[0mdevice\u001b[0m\u001b[0;34m)\u001b[0m\u001b[0;34m,\u001b[0m \u001b[0my\u001b[0m\u001b[0;34m.\u001b[0m\u001b[0mto\u001b[0m\u001b[0;34m(\u001b[0m\u001b[0mdevice\u001b[0m\u001b[0;34m)\u001b[0m\u001b[0;34m\u001b[0m\u001b[0;34m\u001b[0m\u001b[0m\n\u001b[0m\u001b[1;32m     55\u001b[0m     \u001b[0moptimizer\u001b[0m\u001b[0;34m.\u001b[0m\u001b[0mzero_grad\u001b[0m\u001b[0;34m(\u001b[0m\u001b[0;34m)\u001b[0m\u001b[0;34m\u001b[0m\u001b[0;34m\u001b[0m\u001b[0m\n\u001b[1;32m     56\u001b[0m     \u001b[0mlogits\u001b[0m\u001b[0;34m,\u001b[0m \u001b[0mloss\u001b[0m \u001b[0;34m=\u001b[0m \u001b[0mmi_encoder\u001b[0m\u001b[0;34m(\u001b[0m\u001b[0mx\u001b[0m\u001b[0;34m,\u001b[0m \u001b[0my\u001b[0m\u001b[0;34m)\u001b[0m\u001b[0;34m\u001b[0m\u001b[0;34m\u001b[0m\u001b[0m\n",
            "\u001b[0;31mKeyboardInterrupt\u001b[0m: "
          ]
        }
      ]
    },
    {
      "cell_type": "code",
      "source": [
        "min(history[\"train_loss\"]), min(history[\"test_loss\"])"
      ],
      "metadata": {
        "colab": {
          "base_uri": "https://localhost:8080/"
        },
        "id": "RI7zypo9AHVU",
        "outputId": "1966ba5e-f908-4d55-f60f-01fcf0bfbf16"
      },
      "execution_count": null,
      "outputs": [
        {
          "output_type": "execute_result",
          "data": {
            "text/plain": [
              "(0.6757349868615469, 0.6932553052902222)"
            ]
          },
          "metadata": {},
          "execution_count": 25
        }
      ]
    },
    {
      "cell_type": "code",
      "source": [
        "\n",
        "plt.plot(history[\"iter\"], history[\"train_loss\"], label=\"Train Loss\")\n",
        "plt.plot(history[\"iter\"], history[\"test_loss\"], label=\"Test Loss\")\n",
        "plt.grid()\n",
        "plt.title(\"Loss Curve\")\n",
        "plt.legend()"
      ],
      "metadata": {
        "colab": {
          "base_uri": "https://localhost:8080/",
          "height": 470
        },
        "id": "DkMFtLKYErnw",
        "outputId": "88cc2a89-1aa2-4988-99a7-95e0f1277f6c"
      },
      "execution_count": null,
      "outputs": [
        {
          "output_type": "execute_result",
          "data": {
            "text/plain": [
              "<matplotlib.legend.Legend at 0x77fa8fc699d0>"
            ]
          },
          "metadata": {},
          "execution_count": 26
        },
        {
          "output_type": "display_data",
          "data": {
            "text/plain": [
              "<Figure size 640x480 with 1 Axes>"
            ],
            "image/png": "[encoded data removed]"
          },
          "metadata": {}
        }
      ]
    },
    {
      "cell_type": "code",
      "source": [
        "x_0 = test.X[test.y == 0]\n",
        "x_1 = test.X[test.y == 1]\n",
        "x_2 = test.X[test.y == 2]\n",
        "\n",
        "logits_0 = F.elu(mi_encoder(torch.tensor(x_0).to(device), probe=True))\n",
        "logits_1 = F.elu(mi_encoder(torch.tensor(x_1).to(device), probe=True))\n",
        "logits_2 = F.elu(mi_encoder(torch.tensor(x_2).to(device), probe=True))\n",
        "\n",
        "print(logits_0.size(), logits_1.size(), logits_2.size())\n",
        "\n",
        "fig, ax = plt.subplots(1, 3, figsize=(12, 4))\n",
        "\n",
        "vmin = min(logits_0.min(), logits_1.min(), logits_2.min()).cpu().item()\n",
        "vmax = max(logits_0.max(), logits_1.max(), logits_2.max()).cpu().item()\n",
        "\n",
        "images = []\n",
        "for e, (embd, label) in enumerate(zip([logits_0, logits_1, logits_2], [\"Rest\", \"Hand-Opening\", \"Hand-Closing\"])):\n",
        "    embd_ = embd.mean(axis=0).cpu().detach().numpy().reshape(40, 40)\n",
        "    im = ax[e].imshow(embd_, cmap=\"magma\", vmin=vmin, vmax=vmax)\n",
        "    ax[e].set_title(label)\n",
        "    ax[e].axis('off')\n",
        "    images.append(im)\n",
        "\n",
        "# Add a single colorbar at the top\n",
        "cbar = fig.colorbar(images[0], ax=ax, orientation='horizontal', fraction=0.05, pad=0.15)\n",
        "cbar.set_label(\"Logit Value\")\n",
        "\n",
        "fig.suptitle(\"Mean Embedding Heatmaps for Each Class\", fontsize=16)\n",
        "plt.tight_layout(rect=[0, 0, 1, 0.1])\n",
        "plt.show()"
      ],
      "metadata": {
        "colab": {
          "base_uri": "https://localhost:8080/",
          "height": 446
        },
        "id": "Bq_EKSwv9v47",
        "outputId": "dcb59124-3232-461b-9837-04364c0cac26"
      },
      "execution_count": null,
      "outputs": [
        {
          "output_type": "stream",
          "name": "stdout",
          "text": [
            "torch.Size([80, 1600]) torch.Size([80, 1600]) torch.Size([80, 1600])\n"
          ]
        },
        {
          "output_type": "display_data",
          "data": {
            "text/plain": [
              "<Figure size 1200x400 with 4 Axes>"
            ],
            "image/png": "[encoded data removed]"
          },
          "metadata": {}
        }
      ]
    },
    {
      "cell_type": "code",
      "source": [
        "import torch\n",
        "import torch.nn.functional as F\n",
        "import numpy as np\n",
        "import matplotlib.pyplot as plt\n",
        "from sklearn.metrics import silhouette_score\n",
        "from scipy.spatial.distance import cdist\n",
        "from sklearn.manifold import TSNE\n",
        "\n",
        "\n",
        "# Convert embeddings to numpy for analysis\n",
        "emb_0 = logits_0.cpu().detach().numpy()\n",
        "emb_1 = logits_1.cpu().detach().numpy()\n",
        "emb_2 = logits_2.cpu().detach().numpy()\n",
        "\n",
        "# 1. Calculate pairwise distances between class means\n",
        "mean_0 = np.mean(emb_0, axis=0)\n",
        "mean_1 = np.mean(emb_1, axis=0)\n",
        "mean_2 = np.mean(emb_2, axis=0)\n",
        "\n",
        "means = np.vstack([mean_0, mean_1, mean_2])\n",
        "class_labels = [\"Rest\", \"Hand-Opening\", \"Hand-Closing\"]\n",
        "\n",
        "dist_matrix = cdist(means, means)\n",
        "print(\"\\nDistance matrix between class means:\")\n",
        "for i, label_i in enumerate(class_labels):\n",
        "    for j, label_j in enumerate(class_labels):\n",
        "        if i < j:  # Only print upper triangle\n",
        "            print(f\"Distance between {label_i} and {label_j}: {dist_matrix[i, j]:.4f}\")\n",
        "\n",
        "# 2. Calculate within-class and between-class variance\n",
        "all_embeddings = np.vstack([emb_0, emb_1, emb_2])\n",
        "all_labels = np.hstack([np.zeros(len(emb_0)), np.ones(len(emb_1)), 2*np.ones(len(emb_2))])\n",
        "\n",
        "# 3. Calculate silhouette score - measure of how well samples are clustered\n",
        "if len(emb_0) > 1 and len(emb_1) > 1 and len(emb_2) > 1:\n",
        "    silhouette = silhouette_score(all_embeddings, all_labels)\n",
        "    print(f\"\\nSilhouette score: {silhouette:.4f}\")\n",
        "    print(\"  - Closer to 1 means better separated clusters\")\n",
        "    print(\"  - Closer to 0 means overlapping clusters\")\n",
        "    print(\"  - Negative values mean samples are assigned to wrong clusters\")\n",
        "\n",
        "# 4. Visualize with t-SNE for dimensionality reduction\n",
        "tsne = TSNE(n_components=2, random_state=42)\n",
        "embeddings_2d = tsne.fit_transform(all_embeddings)\n",
        "\n",
        "# Plot the t-SNE visualization\n",
        "plt.figure(figsize=(10, 8))\n",
        "colors = ['blue', 'red', 'green']\n",
        "markers = ['o', 's', '^']\n",
        "for i, label in enumerate([\"Rest\", \"Hand-Opening\", \"Hand-Closing\"]):\n",
        "    idx = all_labels == i\n",
        "    plt.scatter(\n",
        "        embeddings_2d[idx, 0],\n",
        "        embeddings_2d[idx, 1],\n",
        "        c=colors[i],\n",
        "        marker=markers[i],\n",
        "        label=label,\n",
        "        alpha=0.7\n",
        "    )\n",
        "plt.title(\"t-SNE Visualization of Class Embeddings\")\n",
        "plt.legend()\n",
        "plt.tight_layout()\n",
        "plt.savefig(\"class_embeddings_tsne.png\")\n",
        "plt.close()"
      ],
      "metadata": {
        "colab": {
          "base_uri": "https://localhost:8080/"
        },
        "id": "nyy2E9s0P2Qv",
        "outputId": "5adead5b-7256-4cd9-aa23-424d5ba26694"
      },
      "execution_count": null,
      "outputs": [
        {
          "output_type": "stream",
          "name": "stdout",
          "text": [
            "\n",
            "Distance matrix between class means:\n",
            "Distance between Rest and Hand-Opening: 70.6364\n",
            "Distance between Rest and Hand-Closing: 139.8769\n",
            "Distance between Hand-Opening and Hand-Closing: 171.3706\n",
            "\n",
            "Silhouette score: -0.0355\n",
            "  - Closer to 1 means better separated clusters\n",
            "  - Closer to 0 means overlapping clusters\n",
            "  - Negative values mean samples are assigned to wrong clusters\n"
          ]
        }
      ]
    },
    {
      "cell_type": "code",
      "source": [
        "def compute_class_separability():\n",
        "    # Overall mean\n",
        "    global_mean = np.mean(all_embeddings, axis=0)\n",
        "\n",
        "    # Class means\n",
        "    means = [mean_0, mean_1, mean_2]\n",
        "\n",
        "    # Between-class scatter\n",
        "    between_scatter = np.zeros((means[0].shape[0], means[0].shape[0]))\n",
        "    for i, mean in enumerate([mean_0, mean_1, mean_2]):\n",
        "        n_samples = [len(emb_0), len(emb_1), len(emb_2)][i]\n",
        "        mean_diff = mean - global_mean\n",
        "        between_scatter += n_samples * np.outer(mean_diff, mean_diff)\n",
        "\n",
        "    # Within-class scatter\n",
        "    within_scatter = np.zeros_like(between_scatter)\n",
        "    for i, emb in enumerate([emb_0, emb_1, emb_2]):\n",
        "        for sample in emb:\n",
        "            diff = sample - means[i]\n",
        "            within_scatter += np.outer(diff, diff)\n",
        "\n",
        "    # Ensure within_scatter is invertible\n",
        "    within_scatter += np.eye(within_scatter.shape[0]) * 1e-6\n",
        "\n",
        "    # Calculate separability ratio (trace-based criterion)\n",
        "    try:\n",
        "        inv_within = np.linalg.inv(within_scatter)\n",
        "        separability = np.trace(np.matmul(inv_within, between_scatter))\n",
        "        return separability\n",
        "    except np.linalg.LinAlgError:\n",
        "        return \"Error: Within-class scatter matrix is not invertible\"\n",
        "\n",
        "separability = compute_class_separability()\n",
        "print(f\"\\nClass separability measure: {separability}\")\n",
        "print(\"  - Higher values indicate better class separation\")"
      ],
      "metadata": {
        "colab": {
          "base_uri": "https://localhost:8080/"
        },
        "id": "nuy-WcgtQNVW",
        "outputId": "ecd02f53-174b-434f-8402-e87f6f702849"
      },
      "execution_count": null,
      "outputs": [
        {
          "output_type": "stream",
          "name": "stdout",
          "text": [
            "\n",
            "Class separability measure: -458437.2261522801\n",
            "  - Higher values indicate better class separation\n"
          ]
        }
      ]
    }
  ],
  "metadata": {
    "colab": {
      "collapsed_sections": [
        "o_gMKY4ggn61",
        "3PmyBeoXyV-G",
        "0-F0yJuK-Fbz",
        "vHmwFgXhiusT",
        "McWuiQUw7qMV",
        "vrW8bhf7C19l"
      ],
      "provenance": [],
      "gpuType": "T4",
      "authorship_tag": "ABX9TyNZ5lH+AQY/Xru5GkeK20/U",
      "include_colab_link": true
    },
    "kernelspec": {
      "display_name": "Python 3",
      "name": "python3"
    },
    "language_info": {
      "name": "python"
    },
    "accelerator": "GPU"
  },
  "nbformat": 4,
  "nbformat_minor": 0
}